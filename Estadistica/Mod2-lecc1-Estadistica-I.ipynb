{
 "cells": [
  {
   "cell_type": "code",
   "execution_count": 1,
   "metadata": {},
   "outputs": [],
   "source": [
    "import numpy as np\n",
    "import pandas as pd"
   ]
  },
  {
   "attachments": {},
   "cell_type": "markdown",
   "metadata": {},
   "source": [
    "1. Buscar un conjunto de datos a analizar:\n",
    "\n",
    "Se recomienda que el conjunto de datos a analizar tenga variables numéricas y categóricas. Ya que también se analizarán."
   ]
  },
  {
   "cell_type": "code",
   "execution_count": 2,
   "metadata": {},
   "outputs": [],
   "source": [
    "# Buscamos un csv de kaggle\n",
    "df = pd.read_csv(\"Datos/cost-of-living.csv\")"
   ]
  },
  {
   "cell_type": "code",
   "execution_count": 3,
   "metadata": {},
   "outputs": [
    {
     "data": {
      "text/plain": [
       "Index(['Unnamed: 0', 'city', 'country', 'x1', 'x2', 'x3', 'x4', 'x5', 'x6',\n",
       "       'x7', 'x8', 'x9', 'x10', 'x11', 'x12', 'x13', 'x14', 'x15', 'x16',\n",
       "       'x17', 'x18', 'x19', 'x20', 'x21', 'x22', 'x23', 'x24', 'x25', 'x26',\n",
       "       'x27', 'x28', 'x29', 'x30', 'x31', 'x32', 'x33', 'x34', 'x35', 'x36',\n",
       "       'x37', 'x38', 'x39', 'x40', 'x41', 'x42', 'x43', 'x44', 'x45', 'x46',\n",
       "       'x47', 'x48', 'x49', 'x50', 'x51', 'x52', 'x53', 'x54', 'x55',\n",
       "       'data_quality'],\n",
       "      dtype='object')"
      ]
     },
     "execution_count": 3,
     "metadata": {},
     "output_type": "execute_result"
    }
   ],
   "source": [
    "# Comprobamos las columnas\n",
    "df.columns"
   ]
  },
  {
   "cell_type": "code",
   "execution_count": 4,
   "metadata": {},
   "outputs": [],
   "source": [
    "# Eliminamos la columna Unnamed: 0\n",
    "df.drop(\"Unnamed: 0\", axis=1, inplace= True)"
   ]
  },
  {
   "cell_type": "code",
   "execution_count": 5,
   "metadata": {},
   "outputs": [
    {
     "data": {
      "text/plain": [
       "Index(['city', 'country', 'x1', 'x2', 'x3', 'x4', 'x5', 'x6', 'x7', 'x8', 'x9',\n",
       "       'x10', 'x11', 'x12', 'x13', 'x14', 'x15', 'x16', 'x17', 'x18', 'x19',\n",
       "       'x20', 'x21', 'x22', 'x23', 'x24', 'x25', 'x26', 'x27', 'x28', 'x29',\n",
       "       'x30', 'x31', 'x32', 'x33', 'x34', 'x35', 'x36', 'x37', 'x38', 'x39',\n",
       "       'x40', 'x41', 'x42', 'x43', 'x44', 'x45', 'x46', 'x47', 'x48', 'x49',\n",
       "       'x50', 'x51', 'x52', 'x53', 'x54', 'x55', 'data_quality'],\n",
       "      dtype='object')"
      ]
     },
     "execution_count": 5,
     "metadata": {},
     "output_type": "execute_result"
    }
   ],
   "source": [
    "df.columns"
   ]
  },
  {
   "cell_type": "code",
   "execution_count": 6,
   "metadata": {},
   "outputs": [],
   "source": [
    "# Creamos un diccionario para renombrar las columnas a nombres más inteligibles\n",
    "columnas_nuevas = {\"x1\":\t\"Meal\", \"x2\": \"Meal for 2 People\", \"x3\":\t\"McMeal\",\n",
    "\"x4\":\t\"Domestic Beer Rest\",\n",
    "\"x5\":\t\"Imported Beer Rest\",\n",
    "\"x6\":\t\"Cappuccino\",\n",
    "\"x7\":\t\"Coke/Pepsi\",\n",
    "\"x8\":\t\"Water Rest\",\n",
    "\"x9\":\t\"Milk\",\n",
    "\"x10\": \"Bread\",\n",
    "\"x11\":\"Rice\",\n",
    "\"x12\":\"Eggs\",\n",
    "\"x13\":\"Local Cheese\",\n",
    "\"x14\":\t\"Chicken Fillets\",\n",
    "\"x15\":\t\"Beef Round\",\n",
    "\"x16\":\t\"Apples\",\n",
    "\"x17\":\t\"Banana\",\n",
    "\"x18\":\t\"Oranges\",\n",
    "\"x19\":\t\"Tomato\",\n",
    "\"x20\":\t\"Potato\",\n",
    "\"x21\":\t\"Onion\",\n",
    "\"x22\":\t\"Lettuce\",\n",
    "\"x23\":\t\"Water\",\n",
    "\"x24\":\t\"Bottle of Wine\",\n",
    "\"x25\":\t\"Domestic Beer\",\n",
    "\"x26\":\t\"Imported Beer\",\n",
    "\"x27\":\t\"Cigarettes\",\n",
    "\"x28\":\t\"Local Transport\",\n",
    "\"x29\":\t\"Monthly Pass\",\n",
    "\"x30\":\t\"Taxi Start\",\n",
    "\"x31\":\t\"Taxi 1km\",\n",
    "\"x32\":\t\"Taxi Waiting\",\n",
    "\"x33\":\t\"Gasoline\",\n",
    "\"x34\":\t\"Volkswagen Golf\",\n",
    "\"x35\":\t\"Toyota Corolla\",\n",
    "\"x36\":\t\"Basic\" ,\n",
    "\"x37\":\t\"Mobile Tariff\",\n",
    "\"x38\":\t\"Internet\",\n",
    "\"x39\":\t\"Fitness Club\",\n",
    "\"x40\":\t\"Tennis\",\n",
    "\"x41\":\t\"Cinema\",\n",
    "\"x42\":\t\"Preschool\",\n",
    "\"x43\":\t\"Primary School\",\n",
    "\"x44\":\t\"Jeans\",\n",
    "\"x45\":\t\"Summer Dress\",\n",
    "\"x46\":\t\"Running Shoes\",\n",
    "\"x47\":\t\"Business Shoes\",\n",
    "\"x48\":\t\"1 bedroom Centre\",\n",
    "\"x49\":\t\"1 bedroom Out\",\n",
    "\"x50\":\t\"3 bedrooms Centre\",\n",
    "\"x51\":\t\"3 bedrooms Out\",\n",
    "\"x52\":\t\"Price Meter Centre\",\n",
    "\"x53\":\t\"Price Meter Out\",\n",
    "\"x54\":\t\"Average Monthly\",\n",
    "\"x55\":\t\"Mortgage Interest\"}"
   ]
  },
  {
   "cell_type": "code",
   "execution_count": 7,
   "metadata": {},
   "outputs": [],
   "source": [
    "# Modificamos los nombres de las columnas\n",
    "df.rename(columns= columnas_nuevas, inplace= True)"
   ]
  },
  {
   "cell_type": "code",
   "execution_count": 8,
   "metadata": {},
   "outputs": [
    {
     "data": {
      "text/plain": [
       "Index(['city', 'country', 'Meal', 'Meal for 2 People', 'McMeal',\n",
       "       'Domestic Beer Rest', 'Imported Beer Rest', 'Cappuccino', 'Coke/Pepsi',\n",
       "       'Water Rest', 'Milk', 'Bread', 'Rice', 'Eggs', 'Local Cheese',\n",
       "       'Chicken Fillets', 'Beef Round', 'Apples', 'Banana', 'Oranges',\n",
       "       'Tomato', 'Potato', 'Onion', 'Lettuce', 'Water', 'Bottle of Wine',\n",
       "       'Domestic Beer', 'Imported Beer', 'Cigarettes', 'Local Transport',\n",
       "       'Monthly Pass', 'Taxi Start', 'Taxi 1km', 'Taxi Waiting', 'Gasoline',\n",
       "       'Volkswagen Golf', 'Toyota Corolla', 'Basic', 'Mobile Tariff',\n",
       "       'Internet', 'Fitness Club', 'Tennis', 'Cinema', 'Preschool',\n",
       "       'Primary School', 'Jeans', 'Summer Dress', 'Running Shoes',\n",
       "       'Business Shoes', '1 bedroom Centre', '1 bedroom Out',\n",
       "       '3 bedrooms Centre', '3 bedrooms Out', 'Price Meter Centre',\n",
       "       'Price Meter Out', 'Average Monthly', 'Mortgage Interest',\n",
       "       'data_quality'],\n",
       "      dtype='object')"
      ]
     },
     "execution_count": 8,
     "metadata": {},
     "output_type": "execute_result"
    }
   ],
   "source": [
    "df.columns"
   ]
  },
  {
   "cell_type": "code",
   "execution_count": 9,
   "metadata": {},
   "outputs": [
    {
     "name": "stdout",
     "output_type": "stream",
     "text": [
      "<class 'pandas.core.frame.DataFrame'>\n",
      "RangeIndex: 4874 entries, 0 to 4873\n",
      "Data columns (total 58 columns):\n",
      " #   Column              Non-Null Count  Dtype  \n",
      "---  ------              --------------  -----  \n",
      " 0   city                4874 non-null   object \n",
      " 1   country             4874 non-null   object \n",
      " 2   Meal                4449 non-null   float64\n",
      " 3   Meal for 2 People   4432 non-null   float64\n",
      " 4   McMeal              4552 non-null   float64\n",
      " 5   Domestic Beer Rest  4385 non-null   float64\n",
      " 6   Imported Beer Rest  4445 non-null   float64\n",
      " 7   Cappuccino          4540 non-null   float64\n",
      " 8   Coke/Pepsi          4438 non-null   float64\n",
      " 9   Water Rest          4571 non-null   float64\n",
      " 10  Milk                4494 non-null   float64\n",
      " 11  Bread               4457 non-null   float64\n",
      " 12  Rice                4538 non-null   float64\n",
      " 13  Eggs                4369 non-null   float64\n",
      " 14  Local Cheese        4393 non-null   float64\n",
      " 15  Chicken Fillets     4318 non-null   float64\n",
      " 16  Beef Round          4312 non-null   float64\n",
      " 17  Apples              4509 non-null   float64\n",
      " 18  Banana              4499 non-null   float64\n",
      " 19  Oranges             4439 non-null   float64\n",
      " 20  Tomato              4410 non-null   float64\n",
      " 21  Potato              4444 non-null   float64\n",
      " 22  Onion               4447 non-null   float64\n",
      " 23  Lettuce             4379 non-null   float64\n",
      " 24  Water               4490 non-null   float64\n",
      " 25  Bottle of Wine      4414 non-null   float64\n",
      " 26  Domestic Beer       4149 non-null   float64\n",
      " 27  Imported Beer       4223 non-null   float64\n",
      " 28  Cigarettes          4389 non-null   float64\n",
      " 29  Local Transport     3401 non-null   float64\n",
      " 30  Monthly Pass        2750 non-null   float64\n",
      " 31  Taxi Start          4013 non-null   float64\n",
      " 32  Taxi 1km            3869 non-null   float64\n",
      " 33  Taxi Waiting        3506 non-null   float64\n",
      " 34  Gasoline            4296 non-null   float64\n",
      " 35  Volkswagen Golf     3839 non-null   float64\n",
      " 36  Toyota Corolla      3904 non-null   float64\n",
      " 37  Basic               4400 non-null   float64\n",
      " 38  Mobile Tariff       3702 non-null   float64\n",
      " 39  Internet            4534 non-null   float64\n",
      " 40  Fitness Club        3523 non-null   float64\n",
      " 41  Tennis              2508 non-null   float64\n",
      " 42  Cinema              4405 non-null   float64\n",
      " 43  Preschool           3761 non-null   float64\n",
      " 44  Primary School      3230 non-null   float64\n",
      " 45  Jeans               4413 non-null   float64\n",
      " 46  Summer Dress        4273 non-null   float64\n",
      " 47  Running Shoes       4388 non-null   float64\n",
      " 48  Business Shoes      4337 non-null   float64\n",
      " 49  1 bedroom Centre    3533 non-null   float64\n",
      " 50  1 bedroom Out       3465 non-null   float64\n",
      " 51  3 bedrooms Centre   3418 non-null   float64\n",
      " 52  3 bedrooms Out      3385 non-null   float64\n",
      " 53  Price Meter Centre  2681 non-null   float64\n",
      " 54  Price Meter Out     2609 non-null   float64\n",
      " 55  Average Monthly     3459 non-null   float64\n",
      " 56  Mortgage Interest   3894 non-null   float64\n",
      " 57  data_quality        4874 non-null   int64  \n",
      "dtypes: float64(55), int64(1), object(2)\n",
      "memory usage: 2.2+ MB\n"
     ]
    }
   ],
   "source": [
    "# Comenzamos a explorar los datos con df.info\n",
    "df.info()"
   ]
  },
  {
   "cell_type": "code",
   "execution_count": 10,
   "metadata": {},
   "outputs": [
    {
     "data": {
      "text/plain": [
       "city                     0\n",
       "country                  0\n",
       "Meal                   425\n",
       "Meal for 2 People      442\n",
       "McMeal                 322\n",
       "Domestic Beer Rest     489\n",
       "Imported Beer Rest     429\n",
       "Cappuccino             334\n",
       "Coke/Pepsi             436\n",
       "Water Rest             303\n",
       "Milk                   380\n",
       "Bread                  417\n",
       "Rice                   336\n",
       "Eggs                   505\n",
       "Local Cheese           481\n",
       "Chicken Fillets        556\n",
       "Beef Round             562\n",
       "Apples                 365\n",
       "Banana                 375\n",
       "Oranges                435\n",
       "Tomato                 464\n",
       "Potato                 430\n",
       "Onion                  427\n",
       "Lettuce                495\n",
       "Water                  384\n",
       "Bottle of Wine         460\n",
       "Domestic Beer          725\n",
       "Imported Beer          651\n",
       "Cigarettes             485\n",
       "Local Transport       1473\n",
       "Monthly Pass          2124\n",
       "Taxi Start             861\n",
       "Taxi 1km              1005\n",
       "Taxi Waiting          1368\n",
       "Gasoline               578\n",
       "Volkswagen Golf       1035\n",
       "Toyota Corolla         970\n",
       "Basic                  474\n",
       "Mobile Tariff         1172\n",
       "Internet               340\n",
       "Fitness Club          1351\n",
       "Tennis                2366\n",
       "Cinema                 469\n",
       "Preschool             1113\n",
       "Primary School        1644\n",
       "Jeans                  461\n",
       "Summer Dress           601\n",
       "Running Shoes          486\n",
       "Business Shoes         537\n",
       "1 bedroom Centre      1341\n",
       "1 bedroom Out         1409\n",
       "3 bedrooms Centre     1456\n",
       "3 bedrooms Out        1489\n",
       "Price Meter Centre    2193\n",
       "Price Meter Out       2265\n",
       "Average Monthly       1415\n",
       "Mortgage Interest      980\n",
       "data_quality             0\n",
       "dtype: int64"
      ]
     },
     "execution_count": 10,
     "metadata": {},
     "output_type": "execute_result"
    }
   ],
   "source": [
    "# Comprobamos el número de nulos por columna\n",
    "df.isnull().sum()"
   ]
  },
  {
   "attachments": {},
   "cell_type": "markdown",
   "metadata": {},
   "source": [
    "2. Extraer los siguentes estadísiticos del conjunto de datos para varias de las variables disponibles:\n",
    "\n",
    "Media\n",
    "\n",
    "Desviación con respecto de la media\n",
    "\n",
    "Varianza\n",
    "\n",
    "Desviación típica\n",
    "\n",
    "Moda\n",
    "\n",
    "Mediana\n",
    "\n",
    "Media ponderada\n",
    "\n",
    "Robustez\n",
    "\n",
    "Coeficiente de variación"
   ]
  },
  {
   "cell_type": "code",
   "execution_count": 11,
   "metadata": {},
   "outputs": [
    {
     "name": "stdout",
     "output_type": "stream",
     "text": [
      "Media del precio del Meal por persona: 10.321643065857495\n",
      "Media del precio del arroz: 2.182243278977523\n",
      "Media del precio del MacMeal: 6.8754261862917385\n",
      "Media del precio de la gasolina: 1.3447672253258844\n",
      "Media del precio del apartamento: 710.6961562411549\n",
      "Media del precio del apartamento de 3 habitaciones en las afueras: 973.6038670605612\n"
     ]
    }
   ],
   "source": [
    "# Media\n",
    "print(\"Media del precio del Meal por persona:\", df[\"Meal\"].mean())\n",
    "print(\"Media del precio del arroz:\", df[\"Rice\"].mean())\n",
    "print(\"Media del precio del MacMeal:\", df[\"McMeal\"].mean())\n",
    "print(\"Media del precio de la gasolina:\", df[\"Gasoline\"].mean())\n",
    "print(\"Media del precio del apartamento:\", df[\"1 bedroom Centre\"].mean())\n",
    "print(\"Media del precio del apartamento de 3 habitaciones en las afueras:\", df[\"3 bedrooms Out\"].mean())"
   ]
  },
  {
   "cell_type": "code",
   "execution_count": 12,
   "metadata": {},
   "outputs": [
    {
     "name": "stdout",
     "output_type": "stream",
     "text": [
      "Desviación respecto a la media del precio del Meal por persona: 0        5.421643\n",
      "1        4.731643\n",
      "2        7.781643\n",
      "3        6.781643\n",
      "4        3.161643\n",
      "          ...    \n",
      "4869          NaN\n",
      "4870          NaN\n",
      "4871     5.131643\n",
      "4872    19.458357\n",
      "4873          NaN\n",
      "Name: Meal, Length: 4874, dtype: float64\n",
      "Desviación respecto a la media del precio del arroz: 0       1.302243\n",
      "1       1.002243\n",
      "2       1.352243\n",
      "3       1.292243\n",
      "4       1.477757\n",
      "          ...   \n",
      "4869         NaN\n",
      "4870         NaN\n",
      "4871         NaN\n",
      "4872    4.707757\n",
      "4873         NaN\n",
      "Name: Rice, Length: 4874, dtype: float64\n",
      "Desviación respecto a la media del precio del MacMeal: 0       2.595426\n",
      "1       1.285426\n",
      "2       3.375426\n",
      "3       3.335426\n",
      "4       0.845426\n",
      "          ...   \n",
      "4869         NaN\n",
      "4870         NaN\n",
      "4871    6.094574\n",
      "4872    6.894574\n",
      "4873    3.674574\n",
      "Name: McMeal, Length: 4874, dtype: float64\n",
      "Desviación respecto a la media del precio de la gasolina: 0       0.094767\n",
      "1       0.174767\n",
      "2       0.554767\n",
      "3       0.035233\n",
      "4       0.065233\n",
      "          ...   \n",
      "4869         NaN\n",
      "4870         NaN\n",
      "4871    0.334767\n",
      "4872         NaN\n",
      "4873         NaN\n",
      "Name: Gasoline, Length: 4874, dtype: float64\n",
      "Desviación respecto a la media del precio del apartamento: 0       486.826156\n",
      "1       369.373844\n",
      "2       227.846156\n",
      "3       151.176156\n",
      "4        99.133844\n",
      "           ...    \n",
      "4869           NaN\n",
      "4870           NaN\n",
      "4871    295.586156\n",
      "4872           NaN\n",
      "4873           NaN\n",
      "Name: 1 bedroom Centre, Length: 4874, dtype: float64\n",
      "Desviación respecto a la media del precio del apartamento de 3 habitaciones en las afueras: 0        647.783867\n",
      "1        558.626133\n",
      "2        389.233867\n",
      "3        288.793867\n",
      "4        710.136133\n",
      "           ...     \n",
      "4869            NaN\n",
      "4870            NaN\n",
      "4871     558.493867\n",
      "4872    2004.506133\n",
      "4873            NaN\n",
      "Name: 3 bedrooms Out, Length: 4874, dtype: float64\n"
     ]
    }
   ],
   "source": [
    "# Desviación respecto a la media\n",
    "print(\"Desviación respecto a la media del precio del Meal por persona:\", np.abs(df[\"Meal\"] -df[\"Meal\"].mean()))\n",
    "print(\"Desviación respecto a la media del precio del arroz:\", np.abs(df[\"Rice\"] -df[\"Rice\"].mean()))\n",
    "print(\"Desviación respecto a la media del precio del MacMeal:\", np.abs(df[\"McMeal\"] -df[\"McMeal\"].mean()))\n",
    "print(\"Desviación respecto a la media del precio de la gasolina:\", np.abs(df[\"Gasoline\"] -df[\"Gasoline\"].mean()))\n",
    "print(\"Desviación respecto a la media del precio del apartamento:\", np.abs(df[\"1 bedroom Centre\"] -df[\"1 bedroom Centre\"].mean()))\n",
    "print(\"Desviación respecto a la media del precio del apartamento de 3 habitaciones en las afueras:\", np.abs(df[\"3 bedrooms Out\"] -df[\"3 bedrooms Out\"].mean()))"
   ]
  },
  {
   "cell_type": "code",
   "execution_count": 13,
   "metadata": {},
   "outputs": [
    {
     "name": "stdout",
     "output_type": "stream",
     "text": [
      "Varianza del precio del Meal por persona: 51.34449556861308\n",
      "Varianza del precio del arroz: 2.682644029847922\n",
      "Varianza del precio del MacMeal: 7.123654399736003\n",
      "Varianza del precio de la gasolina: 0.23576055115839775\n",
      "Varianza del precio del apartamento: 423025.626860758\n",
      "Varianza del precio del apartamento de 3 habitaciones en las afueras: 858498.8063168089\n"
     ]
    }
   ],
   "source": [
    "# Varianza\n",
    "print(\"Varianza del precio del Meal por persona:\", df[\"Meal\"].var())\n",
    "print(\"Varianza del precio del arroz:\", df[\"Rice\"].var())\n",
    "print(\"Varianza del precio del MacMeal:\", df[\"McMeal\"].var())\n",
    "print(\"Varianza del precio de la gasolina:\", df[\"Gasoline\"].var())\n",
    "print(\"Varianza del precio del apartamento:\", df[\"1 bedroom Centre\"].var())\n",
    "print(\"Varianza del precio del apartamento de 3 habitaciones en las afueras:\", df[\"3 bedrooms Out\"].var())"
   ]
  },
  {
   "cell_type": "code",
   "execution_count": 14,
   "metadata": {},
   "outputs": [
    {
     "name": "stdout",
     "output_type": "stream",
     "text": [
      "Desviación típica del precio del Meal por persona: 7.165507349002796\n",
      "Desviación típica del precio del arroz: 1.6378779044385214\n",
      "Desviación típica del precio del MacMeal: 2.66901749708315\n",
      "Desviación típica del precio de la gasolina: 0.4855518006952479\n",
      "Desviación típica del precio del apartamento: 650.4042026776565\n",
      "Desviación típica del precio del apartamento de 3 habitaciones en las afueras: 926.5521066388058\n"
     ]
    }
   ],
   "source": [
    "# Desviación típica\n",
    "print(\"Desviación típica del precio del Meal por persona:\", df[\"Meal\"].std())\n",
    "print(\"Desviación típica del precio del arroz:\", df[\"Rice\"].std())\n",
    "print(\"Desviación típica del precio del MacMeal:\", df[\"McMeal\"].std())\n",
    "print(\"Desviación típica del precio de la gasolina:\", df[\"Gasoline\"].std())\n",
    "print(\"Desviación típica del precio del apartamento:\", df[\"1 bedroom Centre\"].std())\n",
    "print(\"Desviación típica del precio del apartamento de 3 habitaciones en las afueras:\", df[\"3 bedrooms Out\"].std())"
   ]
  },
  {
   "cell_type": "code",
   "execution_count": 15,
   "metadata": {},
   "outputs": [
    {
     "name": "stdout",
     "output_type": "stream",
     "text": [
      "Moda del precio del Meal por persona: 15.0\n",
      "Moda del precio del arroz: 0.93\n",
      "Moda del precio del MacMeal: 8.0\n",
      "Moda del precio de la gasolina: 1.23\n",
      "Moda del precio del apartamento: 623.22\n",
      "Moda del precio del apartamento de 3 habitaciones en las afueras: 727.09\n"
     ]
    }
   ],
   "source": [
    "# Moda\n",
    "print(\"Moda del precio del Meal por persona:\", df[\"Meal\"].mode()[0])\n",
    "print(\"Moda del precio del arroz:\", df[\"Rice\"].mode()[0])\n",
    "print(\"Moda del precio del MacMeal:\", df[\"McMeal\"].mode()[0])\n",
    "print(\"Moda del precio de la gasolina:\", df[\"Gasoline\"].mode()[0])\n",
    "print(\"Moda del precio del apartamento:\", df[\"1 bedroom Centre\"].mode()[0])\n",
    "print(\"Moda del precio del apartamento de 3 habitaciones en las afueras:\", df[\"3 bedrooms Out\"].mode()[0])"
   ]
  },
  {
   "cell_type": "code",
   "execution_count": 16,
   "metadata": {},
   "outputs": [
    {
     "name": "stdout",
     "output_type": "stream",
     "text": [
      "Mediana del precio del Meal por persona: 9.83\n",
      "Mediana del precio del arroz: 1.68\n",
      "Mediana del precio del MacMeal: 6.96\n",
      "Mediana del precio de la gasolina: 1.26\n",
      "Mediana del precio del apartamento: 519.35\n",
      "Mediana del precio del apartamento de 3 habitaciones en las afueras: 720.71\n"
     ]
    }
   ],
   "source": [
    "# Mediana\n",
    "print(\"Mediana del precio del Meal por persona:\", df[\"Meal\"].median())\n",
    "print(\"Mediana del precio del arroz:\", df[\"Rice\"].median())\n",
    "print(\"Mediana del precio del MacMeal:\", df[\"McMeal\"].median())\n",
    "print(\"Mediana del precio de la gasolina:\", df[\"Gasoline\"].median())\n",
    "print(\"Mediana del precio del apartamento:\", df[\"1 bedroom Centre\"].median())\n",
    "print(\"Mediana del precio del apartamento de 3 habitaciones en las afueras:\", df[\"3 bedrooms Out\"].median())"
   ]
  },
  {
   "cell_type": "code",
   "execution_count": 17,
   "metadata": {},
   "outputs": [],
   "source": [
    "# Sacamos w para poder usarlo luego como el peso para la obtención de la media ponderada\n",
    "w = np.random.randint(0,100, df.shape[0])"
   ]
  },
  {
   "cell_type": "code",
   "execution_count": 18,
   "metadata": {},
   "outputs": [
    {
     "data": {
      "text/plain": [
       "array([93, 71, 72, ..., 27, 55, 59])"
      ]
     },
     "execution_count": 18,
     "metadata": {},
     "output_type": "execute_result"
    }
   ],
   "source": [
    "w"
   ]
  },
  {
   "cell_type": "code",
   "execution_count": 19,
   "metadata": {},
   "outputs": [
    {
     "name": "stdout",
     "output_type": "stream",
     "text": [
      "Media ponderada del precio del Meal por persona: 0.9117422901526352\n",
      "Media ponderada del precio del arroz: 0.9310205526518543\n",
      "Media ponderada del precio del MacMeal: 0.9337192595214793\n",
      "Media ponderada del precio de la gasolina: 0.8806321970722362\n",
      "Media ponderada del precio del apartamento: 0.7299543968515086\n",
      "Media ponderada del precio del apartamento de 3 habitaciones en las afueras: 0.6939966266164129\n"
     ]
    }
   ],
   "source": [
    "# Media ponderada\n",
    "print(\"Media ponderada del precio del Meal por persona:\", np.average(df[\"Meal\"].notnull(),weights= w))\n",
    "print(\"Media ponderada del precio del arroz:\", np.average(df[\"Rice\"].notnull(),weights= w))\n",
    "print(\"Media ponderada del precio del MacMeal:\", np.average(df[\"McMeal\"].notnull(),weights= w))\n",
    "print(\"Media ponderada del precio de la gasolina:\", np.average(df[\"Gasoline\"].notnull(),weights= w))\n",
    "print(\"Media ponderada del precio del apartamento:\", np.average(df[\"1 bedroom Centre\"].notnull(),weights= w))\n",
    "print(\"Media ponderada del precio del apartamento de 3 habitaciones en las afueras:\", np.average(df[\"3 bedrooms Out\"].notnull(),weights= w))"
   ]
  },
  {
   "cell_type": "code",
   "execution_count": 20,
   "metadata": {},
   "outputs": [
    {
     "name": "stdout",
     "output_type": "stream",
     "text": [
      "Coeficiente de variación del precio del Meal por persona: 0.6942215791888077\n",
      "Coeficiente de variación del precio del arroz: 0.750547805653428\n",
      "Coeficiente de variación del precio del MacMeal: 1.223061389532015\n",
      "Coeficiente de variación del precio de la gasolina: 0.2225012240261087\n",
      "Coeficiente de variación del precio del apartamento: 298.043856495413\n",
      "Coeficiente de variación del precio del apartamento de 3 habitaciones en las afueras: 424.58699062779846\n"
     ]
    }
   ],
   "source": [
    "# Coeficiente de variación\n",
    "print(\"Coeficiente de variación del precio del Meal por persona:\", df[\"Meal\"].std()/df[\"Meal\"].mean())\n",
    "print(\"Coeficiente de variación del precio del arroz:\", df[\"Rice\"].std()/df[\"Rice\"].mean())\n",
    "print(\"Coeficiente de variación del precio del MacMeal:\", df[\"McMeal\"].std()/df[\"Rice\"].mean())\n",
    "print(\"Coeficiente de variación del precio de la gasolina:\", df[\"Gasoline\"].std()/df[\"Rice\"].mean())\n",
    "print(\"Coeficiente de variación del precio del apartamento:\", df[\"1 bedroom Centre\"].std()/df[\"Rice\"].mean())\n",
    "print(\"Coeficiente de variación del precio del apartamento de 3 habitaciones en las afueras:\", df[\"3 bedrooms Out\"].std()/df[\"Rice\"].mean())"
   ]
  },
  {
   "attachments": {},
   "cell_type": "markdown",
   "metadata": {},
   "source": [
    "Robustez"
   ]
  },
  {
   "cell_type": "code",
   "execution_count": 21,
   "metadata": {},
   "outputs": [],
   "source": [
    "#hacemos una copia para poder trastear con los datos sin alterar el original\n",
    "copia = df.copy()"
   ]
  },
  {
   "cell_type": "markdown",
   "metadata": {},
   "source": [
    "La media de la columna \"Arroz\" es 2.182243278977523\n",
    "\n",
    "La mediana de la columna \"Arroz\" es 1.68\n"
   ]
  },
  {
   "cell_type": "code",
   "execution_count": 22,
   "metadata": {},
   "outputs": [
    {
     "name": "stderr",
     "output_type": "stream",
     "text": [
      "/tmp/ipykernel_1824/3232370376.py:2: SettingWithCopyWarning: \n",
      "A value is trying to be set on a copy of a slice from a DataFrame\n",
      "\n",
      "See the caveats in the documentation: https://pandas.pydata.org/pandas-docs/stable/user_guide/indexing.html#returning-a-view-versus-a-copy\n",
      "  copia[\"Rice\"][0] = copia[\"Rice\"][0] * 1000\n"
     ]
    },
    {
     "data": {
      "text/plain": [
       "2.375967386513883"
      ]
     },
     "execution_count": 22,
     "metadata": {},
     "output_type": "execute_result"
    }
   ],
   "source": [
    "#calculamos la media y la mediana de Arroz modificando un dato para ver como de robusto es el dato estadistico\n",
    "copia[\"Rice\"][0] = copia[\"Rice\"][0] * 1000\n",
    "copia[\"Rice\"].mean()"
   ]
  },
  {
   "cell_type": "code",
   "execution_count": 23,
   "metadata": {},
   "outputs": [
    {
     "data": {
      "text/plain": [
       "1.68"
      ]
     },
     "execution_count": 23,
     "metadata": {},
     "output_type": "execute_result"
    }
   ],
   "source": [
    "copia[\"Rice\"].median()"
   ]
  },
  {
   "cell_type": "markdown",
   "metadata": {},
   "source": [
    "Multiplicamos uno de los valores de la columna Rice por 1000 y comprobamos que la media ha cambiado de 2.1822 a 220555312.89 Por lo tanto deducimos que la media es un valor muy poco robusto ya que al alterar un solo dato ya varia muchisimo el resultado(aun teniendo casi 5000 registros).\n",
    "\n",
    "Sin embargo la mediana se mantiene igual en los dos casos, 1.68 Por lo que podemos deducir que el valor de la mediana es mucho mas robusto y aunque alteremos un dato no modifica su resultado."
   ]
  },
  {
   "cell_type": "code",
   "execution_count": 24,
   "metadata": {},
   "outputs": [
    {
     "data": {
      "text/plain": [
       "0.09688379976128564"
      ]
     },
     "execution_count": 24,
     "metadata": {},
     "output_type": "execute_result"
    }
   ],
   "source": [
    "#calculamos punto de ruptura de la media:\n",
    "med = df[\"Meal\"].mean()\n",
    "punto_ruptura = 1/med\n",
    "punto_ruptura"
   ]
  },
  {
   "attachments": {},
   "cell_type": "markdown",
   "metadata": {},
   "source": [
    "3. Interpretación de los resultados.\n",
    "\n",
    "Ahora interpreta los resultados obtenidos de los diferentes estadísticos estudiados haciendo hincapié en aspectos interesantes de tus datos y explica lo mejor posible la naturaleza de los mismos."
   ]
  },
  {
   "attachments": {},
   "cell_type": "markdown",
   "metadata": {},
   "source": [
    "- **Media**: El valor de la media no nos aporta mucha informacion ya que no es un dato muy robusto, como hemos visto en el ejercicio anterior cualquier dato que esté alejado del resto nos va a alterar mucho el resultado.\n",
    "\n",
    "- **Mediana**: Como hemos comprobado anteriormente, la mediana sí que es un valor robusto. No varía mucho, a pesar de haber cambiado considerablemente uno de los valores. Lo cual quiere decir que es un valor que nos da información útil.\n",
    "\n",
    "- Un dato interesante de evaluar es la **desviación típica**. Podemos observar que en artículos como la gasolina, el arroz o el precio de un MacMeal, no hay mucha diferencia de una ciudad a otra. Totalmente opuesto a lo que pasa con la vivienda, en donde existe una gran diferencia de valores. Esto mismo también se puede observar en el **coeficiente de variación**."
   ]
  },
  {
   "cell_type": "code",
   "execution_count": 25,
   "metadata": {},
   "outputs": [],
   "source": [
    "#Guardamos el archivo para poder seguir trabajando con el\n",
    "df_limpio = df.to_csv(\"Datos/df_limpio.csv\")"
   ]
  }
 ],
 "metadata": {
  "kernelspec": {
   "display_name": "base",
   "language": "python",
   "name": "python3"
  },
  "language_info": {
   "codemirror_mode": {
    "name": "ipython",
    "version": 3
   },
   "file_extension": ".py",
   "mimetype": "text/x-python",
   "name": "python",
   "nbconvert_exporter": "python",
   "pygments_lexer": "ipython3",
   "version": "3.9.7"
  },
  "orig_nbformat": 4,
  "vscode": {
   "interpreter": {
    "hash": "f25093244bacc7e62393c275f4a06a2027bcbdb9a67d7fe53680dbd2484adc03"
   }
  }
 },
 "nbformat": 4,
 "nbformat_minor": 2
}
