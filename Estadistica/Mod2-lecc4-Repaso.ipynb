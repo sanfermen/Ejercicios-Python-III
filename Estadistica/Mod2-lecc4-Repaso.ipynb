{
 "cells": [
  {
   "cell_type": "code",
   "execution_count": 2,
   "metadata": {},
   "outputs": [],
   "source": [
    "#importamos las librerias\n",
    "import numpy as np\n",
    "import seaborn as sns\n",
    "import pandas as pd\n",
    "import matplotlib.pyplot as plt\n",
    "from scipy.stats import skew\n",
    "import scipy.stats as st"
   ]
  },
  {
   "cell_type": "code",
   "execution_count": 3,
   "metadata": {},
   "outputs": [],
   "source": [
    "df = pd.read_csv(\"Datos/FIFA World Cup.csv\")"
   ]
  },
  {
   "cell_type": "code",
   "execution_count": 4,
   "metadata": {},
   "outputs": [
    {
     "data": {
      "text/html": [
       "<div>\n",
       "<style scoped>\n",
       "    .dataframe tbody tr th:only-of-type {\n",
       "        vertical-align: middle;\n",
       "    }\n",
       "\n",
       "    .dataframe tbody tr th {\n",
       "        vertical-align: top;\n",
       "    }\n",
       "\n",
       "    .dataframe thead th {\n",
       "        text-align: right;\n",
       "    }\n",
       "</style>\n",
       "<table border=\"1\" class=\"dataframe\">\n",
       "  <thead>\n",
       "    <tr style=\"text-align: right;\">\n",
       "      <th></th>\n",
       "      <th>Year</th>\n",
       "      <th>Hosts</th>\n",
       "      <th>Venues/Cities</th>\n",
       "      <th>Totalattendance †</th>\n",
       "      <th>Matches</th>\n",
       "      <th>Averageattendance</th>\n",
       "      <th>highest attendence of Number</th>\n",
       "      <th>highest attendence of Venue</th>\n",
       "      <th>highest attendence of Game(s)</th>\n",
       "    </tr>\n",
       "  </thead>\n",
       "  <tbody>\n",
       "    <tr>\n",
       "      <th>0</th>\n",
       "      <td>1930</td>\n",
       "      <td>Uruguay</td>\n",
       "      <td>3/1</td>\n",
       "      <td>590,549</td>\n",
       "      <td>18</td>\n",
       "      <td>32,808</td>\n",
       "      <td>93,000</td>\n",
       "      <td>Estadio Centenario, Montevideo</td>\n",
       "      <td>Uruguay 6–1 Yugoslavia, Semi-final</td>\n",
       "    </tr>\n",
       "    <tr>\n",
       "      <th>1</th>\n",
       "      <td>1934</td>\n",
       "      <td>Italy</td>\n",
       "      <td>8/8</td>\n",
       "      <td>363,000</td>\n",
       "      <td>17</td>\n",
       "      <td>21,353</td>\n",
       "      <td>55,000</td>\n",
       "      <td>Stadio Nazionale PNF, Rome</td>\n",
       "      <td>Italy 2–1 Czechoslovakia, Final</td>\n",
       "    </tr>\n",
       "  </tbody>\n",
       "</table>\n",
       "</div>"
      ],
      "text/plain": [
       "   Year     Hosts Venues/Cities Totalattendance †  Matches Averageattendance  \\\n",
       "0  1930   Uruguay           3/1           590,549       18            32,808   \n",
       "1  1934     Italy           8/8           363,000       17            21,353   \n",
       "\n",
       "  highest attendence of Number     highest attendence of Venue  \\\n",
       "0                       93,000  Estadio Centenario, Montevideo   \n",
       "1                       55,000      Stadio Nazionale PNF, Rome   \n",
       "\n",
       "        highest attendence of Game(s)  \n",
       "0  Uruguay 6–1 Yugoslavia, Semi-final  \n",
       "1     Italy 2–1 Czechoslovakia, Final  "
      ]
     },
     "execution_count": 4,
     "metadata": {},
     "output_type": "execute_result"
    }
   ],
   "source": [
    "df.head(2)"
   ]
  },
  {
   "cell_type": "code",
   "execution_count": 5,
   "metadata": {},
   "outputs": [
    {
     "data": {
      "text/plain": [
       "Index(['Year', 'Hosts', 'Venues/Cities', 'Totalattendance †', 'Matches',\n",
       "       'Averageattendance', 'highest attendence of Number',\n",
       "       'highest attendence of Venue', 'highest attendence of Game(s)'],\n",
       "      dtype='object')"
      ]
     },
     "execution_count": 5,
     "metadata": {},
     "output_type": "execute_result"
    }
   ],
   "source": [
    "df.columns"
   ]
  },
  {
   "cell_type": "code",
   "execution_count": 6,
   "metadata": {},
   "outputs": [
    {
     "name": "stdout",
     "output_type": "stream",
     "text": [
      "<class 'pandas.core.frame.DataFrame'>\n",
      "RangeIndex: 21 entries, 0 to 20\n",
      "Data columns (total 9 columns):\n",
      " #   Column                         Non-Null Count  Dtype \n",
      "---  ------                         --------------  ----- \n",
      " 0   Year                           21 non-null     int64 \n",
      " 1   Hosts                          21 non-null     object\n",
      " 2   Venues/Cities                  21 non-null     object\n",
      " 3   Totalattendance †              21 non-null     object\n",
      " 4   Matches                        21 non-null     int64 \n",
      " 5   Averageattendance              21 non-null     object\n",
      " 6   highest attendence of Number   21 non-null     object\n",
      " 7   highest attendence of Venue    21 non-null     object\n",
      " 8   highest attendence of Game(s)  21 non-null     object\n",
      "dtypes: int64(2), object(7)\n",
      "memory usage: 1.6+ KB\n"
     ]
    }
   ],
   "source": [
    "df.info()"
   ]
  },
  {
   "cell_type": "code",
   "execution_count": 7,
   "metadata": {},
   "outputs": [
    {
     "name": "stdout",
     "output_type": "stream",
     "text": [
      "Nuestro DF tiene 21 filas  y 9 columnas\n"
     ]
    }
   ],
   "source": [
    "print(f\"Nuestro DF tiene {df.shape[0]} filas  y {df.shape[1]} columnas\")"
   ]
  },
  {
   "cell_type": "code",
   "execution_count": 8,
   "metadata": {},
   "outputs": [
    {
     "name": "stdout",
     "output_type": "stream",
     "text": [
      "El número de nulos de nuestro DataFrame es:\n"
     ]
    },
    {
     "data": {
      "text/plain": [
       "Year                             0\n",
       "Hosts                            0\n",
       "Venues/Cities                    0\n",
       "Totalattendance †                0\n",
       "Matches                          0\n",
       "Averageattendance                0\n",
       "highest attendence of Number     0\n",
       "highest attendence of Venue      0\n",
       "highest attendence of Game(s)    0\n",
       "dtype: int64"
      ]
     },
     "execution_count": 8,
     "metadata": {},
     "output_type": "execute_result"
    }
   ],
   "source": [
    "print(\"El número de nulos de nuestro DataFrame es:\")\n",
    "df.isnull().sum()"
   ]
  },
  {
   "cell_type": "code",
   "execution_count": 9,
   "metadata": {},
   "outputs": [
    {
     "name": "stdout",
     "output_type": "stream",
     "text": [
      "El número de duplicados de nuestro DataFrame es:\n"
     ]
    },
    {
     "data": {
      "text/plain": [
       "0"
      ]
     },
     "execution_count": 9,
     "metadata": {},
     "output_type": "execute_result"
    }
   ],
   "source": [
    "print(\"El número de duplicados de nuestro DataFrame es:\")\n",
    "df.duplicated().sum()"
   ]
  },
  {
   "cell_type": "code",
   "execution_count": 10,
   "metadata": {},
   "outputs": [
    {
     "name": "stdout",
     "output_type": "stream",
     "text": [
      "Los tipos de datos de nuestro DataFrame son:\n"
     ]
    },
    {
     "data": {
      "text/plain": [
       "Year                              int64\n",
       "Hosts                            object\n",
       "Venues/Cities                    object\n",
       "Totalattendance †                object\n",
       "Matches                           int64\n",
       "Averageattendance                object\n",
       "highest attendence of Number     object\n",
       "highest attendence of Venue      object\n",
       "highest attendence of Game(s)    object\n",
       "dtype: object"
      ]
     },
     "execution_count": 10,
     "metadata": {},
     "output_type": "execute_result"
    }
   ],
   "source": [
    "print(\"Los tipos de datos de nuestro DataFrame son:\")\n",
    "df.dtypes"
   ]
  },
  {
   "attachments": {},
   "cell_type": "markdown",
   "metadata": {},
   "source": [
    "Para poder trabajar con ellos, y considerando que nos hablan del número de personas, vamos a crear una columna nueva cambiando el tipo de valor de \"Totalattendance\", a integer, ya que nos habla del número de asistentes"
   ]
  },
  {
   "cell_type": "code",
   "execution_count": 11,
   "metadata": {},
   "outputs": [],
   "source": [
    "# Creamos una función para quitar las comas de los datos\n",
    "def quitar_comas(val):\n",
    "    return val.replace(\",\",\"\")"
   ]
  },
  {
   "cell_type": "code",
   "execution_count": 12,
   "metadata": {},
   "outputs": [],
   "source": [
    "# Creamos una nueva columna aplicandole la función quitar comas\n",
    "df[\"Asistencia_Total\"] = df['Totalattendance †'].apply(quitar_comas)"
   ]
  },
  {
   "cell_type": "code",
   "execution_count": 13,
   "metadata": {},
   "outputs": [
    {
     "data": {
      "text/html": [
       "<div>\n",
       "<style scoped>\n",
       "    .dataframe tbody tr th:only-of-type {\n",
       "        vertical-align: middle;\n",
       "    }\n",
       "\n",
       "    .dataframe tbody tr th {\n",
       "        vertical-align: top;\n",
       "    }\n",
       "\n",
       "    .dataframe thead th {\n",
       "        text-align: right;\n",
       "    }\n",
       "</style>\n",
       "<table border=\"1\" class=\"dataframe\">\n",
       "  <thead>\n",
       "    <tr style=\"text-align: right;\">\n",
       "      <th></th>\n",
       "      <th>Year</th>\n",
       "      <th>Hosts</th>\n",
       "      <th>Venues/Cities</th>\n",
       "      <th>Totalattendance †</th>\n",
       "      <th>Matches</th>\n",
       "      <th>Averageattendance</th>\n",
       "      <th>highest attendence of Number</th>\n",
       "      <th>highest attendence of Venue</th>\n",
       "      <th>highest attendence of Game(s)</th>\n",
       "      <th>Asistencia_Total</th>\n",
       "    </tr>\n",
       "  </thead>\n",
       "  <tbody>\n",
       "    <tr>\n",
       "      <th>0</th>\n",
       "      <td>1930</td>\n",
       "      <td>Uruguay</td>\n",
       "      <td>3/1</td>\n",
       "      <td>590,549</td>\n",
       "      <td>18</td>\n",
       "      <td>32,808</td>\n",
       "      <td>93,000</td>\n",
       "      <td>Estadio Centenario, Montevideo</td>\n",
       "      <td>Uruguay 6–1 Yugoslavia, Semi-final</td>\n",
       "      <td>590549</td>\n",
       "    </tr>\n",
       "    <tr>\n",
       "      <th>1</th>\n",
       "      <td>1934</td>\n",
       "      <td>Italy</td>\n",
       "      <td>8/8</td>\n",
       "      <td>363,000</td>\n",
       "      <td>17</td>\n",
       "      <td>21,353</td>\n",
       "      <td>55,000</td>\n",
       "      <td>Stadio Nazionale PNF, Rome</td>\n",
       "      <td>Italy 2–1 Czechoslovakia, Final</td>\n",
       "      <td>363000</td>\n",
       "    </tr>\n",
       "    <tr>\n",
       "      <th>2</th>\n",
       "      <td>1938</td>\n",
       "      <td>France</td>\n",
       "      <td>10/9</td>\n",
       "      <td>375,700</td>\n",
       "      <td>18</td>\n",
       "      <td>20,872</td>\n",
       "      <td>58,455</td>\n",
       "      <td>Olympique de Colombes, Paris</td>\n",
       "      <td>France 1–3 Italy, Quarter-final</td>\n",
       "      <td>375700</td>\n",
       "    </tr>\n",
       "    <tr>\n",
       "      <th>3</th>\n",
       "      <td>1950</td>\n",
       "      <td>Brazil</td>\n",
       "      <td>6/6</td>\n",
       "      <td>1,045,246</td>\n",
       "      <td>22</td>\n",
       "      <td>47,511</td>\n",
       "      <td>173,850[86]</td>\n",
       "      <td>Maracanã Stadium, Rio de Janeiro</td>\n",
       "      <td>Brazil 1–2 Uruguay, Deciding match</td>\n",
       "      <td>1045246</td>\n",
       "    </tr>\n",
       "    <tr>\n",
       "      <th>4</th>\n",
       "      <td>1954</td>\n",
       "      <td>Switzerland</td>\n",
       "      <td>6/6</td>\n",
       "      <td>768,607</td>\n",
       "      <td>26</td>\n",
       "      <td>29,562</td>\n",
       "      <td>63,000</td>\n",
       "      <td>Wankdorf Stadium, Bern</td>\n",
       "      <td>West Germany 3–2 Hungary, Final</td>\n",
       "      <td>768607</td>\n",
       "    </tr>\n",
       "  </tbody>\n",
       "</table>\n",
       "</div>"
      ],
      "text/plain": [
       "   Year         Hosts Venues/Cities Totalattendance †  Matches  \\\n",
       "0  1930       Uruguay           3/1           590,549       18   \n",
       "1  1934         Italy           8/8           363,000       17   \n",
       "2  1938        France          10/9           375,700       18   \n",
       "3  1950        Brazil           6/6         1,045,246       22   \n",
       "4  1954   Switzerland           6/6           768,607       26   \n",
       "\n",
       "  Averageattendance highest attendence of Number  \\\n",
       "0            32,808                       93,000   \n",
       "1            21,353                       55,000   \n",
       "2            20,872                       58,455   \n",
       "3            47,511                  173,850[86]   \n",
       "4            29,562                       63,000   \n",
       "\n",
       "        highest attendence of Venue       highest attendence of Game(s)  \\\n",
       "0    Estadio Centenario, Montevideo  Uruguay 6–1 Yugoslavia, Semi-final   \n",
       "1        Stadio Nazionale PNF, Rome     Italy 2–1 Czechoslovakia, Final   \n",
       "2      Olympique de Colombes, Paris     France 1–3 Italy, Quarter-final   \n",
       "3  Maracanã Stadium, Rio de Janeiro  Brazil 1–2 Uruguay, Deciding match   \n",
       "4            Wankdorf Stadium, Bern     West Germany 3–2 Hungary, Final   \n",
       "\n",
       "  Asistencia_Total  \n",
       "0           590549  \n",
       "1           363000  \n",
       "2           375700  \n",
       "3          1045246  \n",
       "4           768607  "
      ]
     },
     "execution_count": 13,
     "metadata": {},
     "output_type": "execute_result"
    }
   ],
   "source": [
    "df.head()"
   ]
  },
  {
   "cell_type": "code",
   "execution_count": 14,
   "metadata": {},
   "outputs": [],
   "source": [
    "# Modificamos el tipo de dato de la columna nueva\n",
    "df[\"Asistencia_Total\"] = df[\"Asistencia_Total\"].astype(int)"
   ]
  },
  {
   "cell_type": "code",
   "execution_count": 15,
   "metadata": {},
   "outputs": [
    {
     "data": {
      "text/plain": [
       "Year                              int64\n",
       "Hosts                            object\n",
       "Venues/Cities                    object\n",
       "Totalattendance †                object\n",
       "Matches                           int64\n",
       "Averageattendance                object\n",
       "highest attendence of Number     object\n",
       "highest attendence of Venue      object\n",
       "highest attendence of Game(s)    object\n",
       "Asistencia_Total                  int64\n",
       "dtype: object"
      ]
     },
     "execution_count": 15,
     "metadata": {},
     "output_type": "execute_result"
    }
   ],
   "source": [
    "df.dtypes"
   ]
  },
  {
   "cell_type": "code",
   "execution_count": 16,
   "metadata": {},
   "outputs": [
    {
     "name": "stdout",
     "output_type": "stream",
     "text": [
      "Estas son los valores únicos y sus frecuencias de la columna Year\n"
     ]
    },
    {
     "data": {
      "text/plain": [
       "1930    1\n",
       "1982    1\n",
       "2014    1\n",
       "2010    1\n",
       "2006    1\n",
       "2002    1\n",
       "1998    1\n",
       "1994    1\n",
       "1990    1\n",
       "1986    1\n",
       "1978    1\n",
       "1934    1\n",
       "1974    1\n",
       "1970    1\n",
       "1966    1\n",
       "1962    1\n",
       "1958    1\n",
       "1954    1\n",
       "1950    1\n",
       "1938    1\n",
       "2018    1\n",
       "Name: Year, dtype: int64"
      ]
     },
     "execution_count": 16,
     "metadata": {},
     "output_type": "execute_result"
    }
   ],
   "source": [
    "print(\"Estas son los valores únicos y sus frecuencias de la columna Year\")\n",
    "df[\"Year\"].value_counts()"
   ]
  },
  {
   "cell_type": "code",
   "execution_count": 17,
   "metadata": {},
   "outputs": [
    {
     "name": "stdout",
     "output_type": "stream",
     "text": [
      "Estas son los valores únicos y sus frecuencias de la columna Hosts\n"
     ]
    },
    {
     "data": {
      "text/plain": [
       " Mexico               2\n",
       " France               2\n",
       " Brazil               2\n",
       " Italy                2\n",
       " Argentina            1\n",
       " South Africa         1\n",
       " Germany              1\n",
       " South Korea Japan    1\n",
       " United States        1\n",
       " Spain                1\n",
       " Uruguay              1\n",
       " West Germany         1\n",
       " England              1\n",
       " Chile                1\n",
       " Sweden               1\n",
       " Switzerland          1\n",
       " Russia               1\n",
       "Name: Hosts, dtype: int64"
      ]
     },
     "execution_count": 17,
     "metadata": {},
     "output_type": "execute_result"
    }
   ],
   "source": [
    "print(\"Estas son los valores únicos y sus frecuencias de la columna Hosts\")\n",
    "df[\"Hosts\"].value_counts()"
   ]
  },
  {
   "cell_type": "code",
   "execution_count": 18,
   "metadata": {},
   "outputs": [
    {
     "name": "stdout",
     "output_type": "stream",
     "text": [
      "Estas son los valores únicos y sus frecuencias de la columna Venues/Cities\n"
     ]
    },
    {
     "data": {
      "text/plain": [
       "12/12    4\n",
       "10/9     2\n",
       "6/6      2\n",
       "9/9      2\n",
       "12/11    2\n",
       "3/1      1\n",
       "8/8      1\n",
       "4/4      1\n",
       "8/7      1\n",
       "5/5      1\n",
       "6/5      1\n",
       "17/14    1\n",
       "10/10    1\n",
       "20/20    1\n",
       "Name: Venues/Cities, dtype: int64"
      ]
     },
     "execution_count": 18,
     "metadata": {},
     "output_type": "execute_result"
    }
   ],
   "source": [
    "print(\"Estas son los valores únicos y sus frecuencias de la columna Venues/Cities\")\n",
    "df[\"Venues/Cities\"].value_counts()"
   ]
  },
  {
   "cell_type": "code",
   "execution_count": 19,
   "metadata": {},
   "outputs": [
    {
     "name": "stdout",
     "output_type": "stream",
     "text": [
      "Estas son los valores únicos y sus frecuencias de la columna Totalattendance †\n"
     ]
    },
    {
     "data": {
      "text/plain": [
       "590,549      1\n",
       "2,109,723    1\n",
       "3,429,873    1\n",
       "3,178,856    1\n",
       "3,359,439    1\n",
       "2,705,197    1\n",
       "2,785,100    1\n",
       "3,587,538    1\n",
       "2,516,215    1\n",
       "2,394,031    1\n",
       "1,545,791    1\n",
       "363,000      1\n",
       "1,865,753    1\n",
       "1,603,975    1\n",
       "1,563,135    1\n",
       "893,172      1\n",
       "819,810      1\n",
       "768,607      1\n",
       "1,045,246    1\n",
       "375,700      1\n",
       "3,031,768    1\n",
       "Name: Totalattendance †, dtype: int64"
      ]
     },
     "execution_count": 19,
     "metadata": {},
     "output_type": "execute_result"
    }
   ],
   "source": [
    "print(\"Estas son los valores únicos y sus frecuencias de la columna Totalattendance †\")\n",
    "df[\"Totalattendance †\"].value_counts()"
   ]
  },
  {
   "cell_type": "code",
   "execution_count": 20,
   "metadata": {},
   "outputs": [
    {
     "name": "stdout",
     "output_type": "stream",
     "text": [
      "Estas son los valores únicos y sus frecuencias de la columna Matches\n"
     ]
    },
    {
     "data": {
      "text/plain": [
       "64    6\n",
       "52    4\n",
       "32    3\n",
       "18    2\n",
       "38    2\n",
       "17    1\n",
       "22    1\n",
       "26    1\n",
       "35    1\n",
       "Name: Matches, dtype: int64"
      ]
     },
     "execution_count": 20,
     "metadata": {},
     "output_type": "execute_result"
    }
   ],
   "source": [
    "print(\"Estas son los valores únicos y sus frecuencias de la columna Matches\")\n",
    "df[\"Matches\"].value_counts()"
   ]
  },
  {
   "cell_type": "code",
   "execution_count": 21,
   "metadata": {},
   "outputs": [
    {
     "name": "stdout",
     "output_type": "stream",
     "text": [
      "Estas son los valores únicos y sus frecuencias de la columna Averageattendance\n"
     ]
    },
    {
     "data": {
      "text/plain": [
       "32,808    1\n",
       "40,572    1\n",
       "53,592    1\n",
       "49,670    1\n",
       "52,491    1\n",
       "42,269    1\n",
       "43,517    1\n",
       "68,991    1\n",
       "48,389    1\n",
       "46,039    1\n",
       "40,679    1\n",
       "21,353    1\n",
       "49,099    1\n",
       "50,124    1\n",
       "48,848    1\n",
       "27,912    1\n",
       "23,423    1\n",
       "29,562    1\n",
       "47,511    1\n",
       "20,872    1\n",
       "47,371    1\n",
       "Name: Averageattendance, dtype: int64"
      ]
     },
     "execution_count": 21,
     "metadata": {},
     "output_type": "execute_result"
    }
   ],
   "source": [
    "print(\"Estas son los valores únicos y sus frecuencias de la columna Averageattendance\")\n",
    "df[\"Averageattendance\"].value_counts()"
   ]
  },
  {
   "cell_type": "code",
   "execution_count": 22,
   "metadata": {},
   "outputs": [
    {
     "name": "stdout",
     "output_type": "stream",
     "text": [
      "Estas son los valores únicos y sus frecuencias de la columna highest attendence of Number\n"
     ]
    },
    {
     "data": {
      "text/plain": [
       "93,000         1\n",
       "95,500         1\n",
       "74,738         1\n",
       "84,490         1\n",
       "72,000         1\n",
       "69,029         1\n",
       "80,000         1\n",
       "94,194         1\n",
       "74,765         1\n",
       "114,600        1\n",
       "71,712         1\n",
       "55,000         1\n",
       "83,168         1\n",
       "108,192        1\n",
       "98,270         1\n",
       "68,679         1\n",
       "50,928         1\n",
       "63,000         1\n",
       "173,850[86]    1\n",
       "58,455         1\n",
       "78,011         1\n",
       "Name: highest attendence of Number, dtype: int64"
      ]
     },
     "execution_count": 22,
     "metadata": {},
     "output_type": "execute_result"
    }
   ],
   "source": [
    "print(\"Estas son los valores únicos y sus frecuencias de la columna highest attendence of Number\")\n",
    "df[\"highest attendence of Number\"].value_counts()"
   ]
  },
  {
   "cell_type": "code",
   "execution_count": 23,
   "metadata": {},
   "outputs": [
    {
     "name": "stdout",
     "output_type": "stream",
     "text": [
      "Estas son los valores únicos y sus frecuencias de la columna highest attendence of Game(s)\n"
     ]
    },
    {
     "data": {
      "text/plain": [
       "Uruguay 6–1 Yugoslavia, Semi-final                                   1\n",
       "Argentina 0–1 Belgium, Opening match                                 1\n",
       "Germany 1–0 Argentina, Final                                         1\n",
       "Spain 1–0 Netherlands, Final                                         1\n",
       "Germany 1–1 (4–2p) Argentina, Quarter-final                          1\n",
       "Brazil 2–0 Germany, Final                                            1\n",
       "Brazil 0–3 France, Final                                             1\n",
       "Brazil 0–0 (3–2p) Italy, Final                                       1\n",
       "West Germany 4–1 Yugoslavia, Group stage                             1\n",
       "Mexico 1–1 Paraguay, Group stageArgentina 3–2 West Germany, Final    1\n",
       "Italy 1–0 Argentina, Group stage                                     1\n",
       "Italy 2–1 Czechoslovakia, Final                                      1\n",
       "West Germany 1–0 Chile, Group stage                                  1\n",
       "Mexico 1–0 Belgium, Group stage                                      1\n",
       "England 4–2 West Germany, Final                                      1\n",
       "Brazil 4–2 Chile, Semi-final                                         1\n",
       "Brazil 2–0 Soviet Union, Group stage                                 1\n",
       "West Germany 3–2 Hungary, Final                                      1\n",
       "Brazil 1–2 Uruguay, Deciding match                                   1\n",
       "France 1–3 Italy, Quarter-final                                      1\n",
       "France 4–2 Croatia, Final                                            1\n",
       "Name: highest attendence of Game(s), dtype: int64"
      ]
     },
     "execution_count": 23,
     "metadata": {},
     "output_type": "execute_result"
    }
   ],
   "source": [
    "print(\"Estas son los valores únicos y sus frecuencias de la columna highest attendence of Game(s)\")\n",
    "df[\"highest attendence of Game(s)\"].value_counts()"
   ]
  },
  {
   "cell_type": "code",
   "execution_count": 24,
   "metadata": {},
   "outputs": [
    {
     "name": "stdout",
     "output_type": "stream",
     "text": [
      "Estos son los principales estadísticos del DataFrame, para las columnas numéricas\n"
     ]
    },
    {
     "data": {
      "text/html": [
       "<div>\n",
       "<style scoped>\n",
       "    .dataframe tbody tr th:only-of-type {\n",
       "        vertical-align: middle;\n",
       "    }\n",
       "\n",
       "    .dataframe tbody tr th {\n",
       "        vertical-align: top;\n",
       "    }\n",
       "\n",
       "    .dataframe thead th {\n",
       "        text-align: right;\n",
       "    }\n",
       "</style>\n",
       "<table border=\"1\" class=\"dataframe\">\n",
       "  <thead>\n",
       "    <tr style=\"text-align: right;\">\n",
       "      <th></th>\n",
       "      <th>count</th>\n",
       "      <th>mean</th>\n",
       "      <th>std</th>\n",
       "      <th>min</th>\n",
       "      <th>25%</th>\n",
       "      <th>50%</th>\n",
       "      <th>75%</th>\n",
       "      <th>max</th>\n",
       "    </tr>\n",
       "  </thead>\n",
       "  <tbody>\n",
       "    <tr>\n",
       "      <th>Year</th>\n",
       "      <td>21.0</td>\n",
       "      <td>1.976857e+03</td>\n",
       "      <td>2.665762e+01</td>\n",
       "      <td>1930.0</td>\n",
       "      <td>1958.0</td>\n",
       "      <td>1978.0</td>\n",
       "      <td>1998.0</td>\n",
       "      <td>2018.0</td>\n",
       "    </tr>\n",
       "    <tr>\n",
       "      <th>Matches</th>\n",
       "      <td>21.0</td>\n",
       "      <td>4.285714e+01</td>\n",
       "      <td>1.746793e+01</td>\n",
       "      <td>17.0</td>\n",
       "      <td>32.0</td>\n",
       "      <td>38.0</td>\n",
       "      <td>64.0</td>\n",
       "      <td>64.0</td>\n",
       "    </tr>\n",
       "    <tr>\n",
       "      <th>Asistencia_Total</th>\n",
       "      <td>21.0</td>\n",
       "      <td>1.930118e+06</td>\n",
       "      <td>1.077834e+06</td>\n",
       "      <td>363000.0</td>\n",
       "      <td>893172.0</td>\n",
       "      <td>1865753.0</td>\n",
       "      <td>2785100.0</td>\n",
       "      <td>3587538.0</td>\n",
       "    </tr>\n",
       "  </tbody>\n",
       "</table>\n",
       "</div>"
      ],
      "text/plain": [
       "                  count          mean           std       min       25%  \\\n",
       "Year               21.0  1.976857e+03  2.665762e+01    1930.0    1958.0   \n",
       "Matches            21.0  4.285714e+01  1.746793e+01      17.0      32.0   \n",
       "Asistencia_Total   21.0  1.930118e+06  1.077834e+06  363000.0  893172.0   \n",
       "\n",
       "                        50%        75%        max  \n",
       "Year                 1978.0     1998.0     2018.0  \n",
       "Matches                38.0       64.0       64.0  \n",
       "Asistencia_Total  1865753.0  2785100.0  3587538.0  "
      ]
     },
     "execution_count": 24,
     "metadata": {},
     "output_type": "execute_result"
    }
   ],
   "source": [
    "print(\"Estos son los principales estadísticos del DataFrame, para las columnas numéricas\")\n",
    "df.describe().T"
   ]
  },
  {
   "cell_type": "code",
   "execution_count": 25,
   "metadata": {},
   "outputs": [
    {
     "name": "stdout",
     "output_type": "stream",
     "text": [
      "Estos son los principales estadísticos del DataFrame, para las columnas categóricas\n"
     ]
    },
    {
     "data": {
      "text/html": [
       "<div>\n",
       "<style scoped>\n",
       "    .dataframe tbody tr th:only-of-type {\n",
       "        vertical-align: middle;\n",
       "    }\n",
       "\n",
       "    .dataframe tbody tr th {\n",
       "        vertical-align: top;\n",
       "    }\n",
       "\n",
       "    .dataframe thead th {\n",
       "        text-align: right;\n",
       "    }\n",
       "</style>\n",
       "<table border=\"1\" class=\"dataframe\">\n",
       "  <thead>\n",
       "    <tr style=\"text-align: right;\">\n",
       "      <th></th>\n",
       "      <th>count</th>\n",
       "      <th>unique</th>\n",
       "      <th>top</th>\n",
       "      <th>freq</th>\n",
       "    </tr>\n",
       "  </thead>\n",
       "  <tbody>\n",
       "    <tr>\n",
       "      <th>Hosts</th>\n",
       "      <td>21</td>\n",
       "      <td>17</td>\n",
       "      <td>Mexico</td>\n",
       "      <td>2</td>\n",
       "    </tr>\n",
       "    <tr>\n",
       "      <th>Venues/Cities</th>\n",
       "      <td>21</td>\n",
       "      <td>14</td>\n",
       "      <td>12/12</td>\n",
       "      <td>4</td>\n",
       "    </tr>\n",
       "    <tr>\n",
       "      <th>Totalattendance †</th>\n",
       "      <td>21</td>\n",
       "      <td>21</td>\n",
       "      <td>590,549</td>\n",
       "      <td>1</td>\n",
       "    </tr>\n",
       "    <tr>\n",
       "      <th>Averageattendance</th>\n",
       "      <td>21</td>\n",
       "      <td>21</td>\n",
       "      <td>32,808</td>\n",
       "      <td>1</td>\n",
       "    </tr>\n",
       "    <tr>\n",
       "      <th>highest attendence of Number</th>\n",
       "      <td>21</td>\n",
       "      <td>21</td>\n",
       "      <td>93,000</td>\n",
       "      <td>1</td>\n",
       "    </tr>\n",
       "    <tr>\n",
       "      <th>highest attendence of Venue</th>\n",
       "      <td>21</td>\n",
       "      <td>19</td>\n",
       "      <td>Maracanã Stadium, Rio de Janeiro</td>\n",
       "      <td>2</td>\n",
       "    </tr>\n",
       "    <tr>\n",
       "      <th>highest attendence of Game(s)</th>\n",
       "      <td>21</td>\n",
       "      <td>21</td>\n",
       "      <td>Uruguay 6–1 Yugoslavia, Semi-final</td>\n",
       "      <td>1</td>\n",
       "    </tr>\n",
       "  </tbody>\n",
       "</table>\n",
       "</div>"
      ],
      "text/plain": [
       "                              count unique  \\\n",
       "Hosts                            21     17   \n",
       "Venues/Cities                    21     14   \n",
       "Totalattendance †                21     21   \n",
       "Averageattendance                21     21   \n",
       "highest attendence of Number     21     21   \n",
       "highest attendence of Venue      21     19   \n",
       "highest attendence of Game(s)    21     21   \n",
       "\n",
       "                                                              top freq  \n",
       "Hosts                                                      Mexico    2  \n",
       "Venues/Cities                                               12/12    4  \n",
       "Totalattendance †                                         590,549    1  \n",
       "Averageattendance                                          32,808    1  \n",
       "highest attendence of Number                               93,000    1  \n",
       "highest attendence of Venue      Maracanã Stadium, Rio de Janeiro    2  \n",
       "highest attendence of Game(s)  Uruguay 6–1 Yugoslavia, Semi-final    1  "
      ]
     },
     "execution_count": 25,
     "metadata": {},
     "output_type": "execute_result"
    }
   ],
   "source": [
    "print(\"Estos son los principales estadísticos del DataFrame, para las columnas categóricas\")\n",
    "df.describe(include=\"object\").T"
   ]
  },
  {
   "attachments": {},
   "cell_type": "markdown",
   "metadata": {},
   "source": [
    "## EJERCICIO\n",
    "\n",
    "Planteamos una serie de preguntas sobre el DF"
   ]
  },
  {
   "attachments": {},
   "cell_type": "markdown",
   "metadata": {},
   "source": [
    "1. ¿Algún pais ha sido anfitrión más de una vez?"
   ]
  },
  {
   "cell_type": "code",
   "execution_count": 26,
   "metadata": {},
   "outputs": [
    {
     "data": {
      "image/png": "[encoded data removed]",
      "text/plain": [
       "<Figure size 360x432 with 1 Axes>"
      ]
     },
     "metadata": {
      "needs_background": "light"
     },
     "output_type": "display_data"
    }
   ],
   "source": [
    "plt.figure(figsize=(5,6))\n",
    "sns.histplot(y=\"Hosts\", data= df);"
   ]
  },
  {
   "attachments": {},
   "cell_type": "markdown",
   "metadata": {},
   "source": [
    "Hacemos un histplot, en el que vemos que Italia, Francia, Brasil y México son los únicos paises que han repetido"
   ]
  },
  {
   "attachments": {},
   "cell_type": "markdown",
   "metadata": {},
   "source": [
    "2. ¿Que mundial ha tenido más publico?"
   ]
  },
  {
   "cell_type": "code",
   "execution_count": 27,
   "metadata": {},
   "outputs": [
    {
     "data": {
      "text/html": [
       "<div>\n",
       "<style scoped>\n",
       "    .dataframe tbody tr th:only-of-type {\n",
       "        vertical-align: middle;\n",
       "    }\n",
       "\n",
       "    .dataframe tbody tr th {\n",
       "        vertical-align: top;\n",
       "    }\n",
       "\n",
       "    .dataframe thead th {\n",
       "        text-align: right;\n",
       "    }\n",
       "</style>\n",
       "<table border=\"1\" class=\"dataframe\">\n",
       "  <thead>\n",
       "    <tr style=\"text-align: right;\">\n",
       "      <th></th>\n",
       "      <th>Year</th>\n",
       "      <th>Hosts</th>\n",
       "      <th>Venues/Cities</th>\n",
       "      <th>Totalattendance †</th>\n",
       "      <th>Matches</th>\n",
       "      <th>Averageattendance</th>\n",
       "      <th>highest attendence of Number</th>\n",
       "      <th>highest attendence of Venue</th>\n",
       "      <th>highest attendence of Game(s)</th>\n",
       "      <th>Asistencia_Total</th>\n",
       "    </tr>\n",
       "  </thead>\n",
       "  <tbody>\n",
       "    <tr>\n",
       "      <th>14</th>\n",
       "      <td>1994</td>\n",
       "      <td>United States</td>\n",
       "      <td>9/9</td>\n",
       "      <td>3,587,538</td>\n",
       "      <td>52</td>\n",
       "      <td>68,991</td>\n",
       "      <td>94,194</td>\n",
       "      <td>Rose Bowl, Pasadena, California</td>\n",
       "      <td>Brazil 0–0 (3–2p) Italy, Final</td>\n",
       "      <td>3587538</td>\n",
       "    </tr>\n",
       "  </tbody>\n",
       "</table>\n",
       "</div>"
      ],
      "text/plain": [
       "    Year           Hosts Venues/Cities Totalattendance †  Matches  \\\n",
       "14  1994   United States           9/9         3,587,538       52   \n",
       "\n",
       "   Averageattendance highest attendence of Number  \\\n",
       "14            68,991                       94,194   \n",
       "\n",
       "        highest attendence of Venue   highest attendence of Game(s)  \\\n",
       "14  Rose Bowl, Pasadena, California  Brazil 0–0 (3–2p) Italy, Final   \n",
       "\n",
       "    Asistencia_Total  \n",
       "14           3587538  "
      ]
     },
     "execution_count": 27,
     "metadata": {},
     "output_type": "execute_result"
    }
   ],
   "source": [
    "maximo = df[df[\"Asistencia_Total\"] == df[\"Asistencia_Total\"].max()]\n",
    "maximo"
   ]
  },
  {
   "attachments": {},
   "cell_type": "markdown",
   "metadata": {},
   "source": [
    "El mundial que más asistencia ha tenido es el de USA en 1994"
   ]
  },
  {
   "attachments": {},
   "cell_type": "markdown",
   "metadata": {},
   "source": [
    "3. Evolución del número de partidos en los diferentes mundiales a lo largo del tiempo"
   ]
  },
  {
   "cell_type": "code",
   "execution_count": 28,
   "metadata": {},
   "outputs": [
    {
     "data": {
      "image/png": "[encoded data removed]",
      "text/plain": [
       "<Figure size 576x504 with 1 Axes>"
      ]
     },
     "metadata": {
      "needs_background": "light"
     },
     "output_type": "display_data"
    }
   ],
   "source": [
    "plt.figure(figsize=(8,7))\n",
    "sns.lineplot(y=\"Matches\", data= df, x= \"Year\");"
   ]
  },
  {
   "attachments": {},
   "cell_type": "markdown",
   "metadata": {},
   "source": [
    "Vemos que ha ido aumentando con los años, y se ha estancado desde el año 2000"
   ]
  },
  {
   "attachments": {},
   "cell_type": "markdown",
   "metadata": {},
   "source": [
    "4. Creamos un boxplot para ver las estadísticas de la asistencia a los mundiales"
   ]
  },
  {
   "cell_type": "code",
   "execution_count": 30,
   "metadata": {},
   "outputs": [
    {
     "data": {
      "image/png": "[encoded data removed]",
      "text/plain": [
       "<Figure size 720x360 with 1 Axes>"
      ]
     },
     "metadata": {},
     "output_type": "display_data"
    }
   ],
   "source": [
    "plt.figure(figsize= (10,5))\n",
    "sns.set(style= \"darkgrid\")\n",
    "\n",
    "sns.boxplot(data= df, x= \"Asistencia_Total\", color= \"green\");"
   ]
  },
  {
   "attachments": {},
   "cell_type": "markdown",
   "metadata": {},
   "source": [
    "Podemos ver que no tenemos ningún outlier. La mediana está cerca de 1.9 millones de personas, que corresponden a Q2. Q1 está mas o menos en 0.9 millones de personas, y y Q3 en 2.8 millones. El rango intercuartílico va entre 0.9 y 2.8, que es donde tenemos la mayoría de los registros."
   ]
  }
 ],
 "metadata": {
  "kernelspec": {
   "display_name": "base",
   "language": "python",
   "name": "python3"
  },
  "language_info": {
   "codemirror_mode": {
    "name": "ipython",
    "version": 3
   },
   "file_extension": ".py",
   "mimetype": "text/x-python",
   "name": "python",
   "nbconvert_exporter": "python",
   "pygments_lexer": "ipython3",
   "version": "3.9.7"
  },
  "orig_nbformat": 4,
  "vscode": {
   "interpreter": {
    "hash": "f25093244bacc7e62393c275f4a06a2027bcbdb9a67d7fe53680dbd2484adc03"
   }
  }
 },
 "nbformat": 4,
 "nbformat_minor": 2
}
