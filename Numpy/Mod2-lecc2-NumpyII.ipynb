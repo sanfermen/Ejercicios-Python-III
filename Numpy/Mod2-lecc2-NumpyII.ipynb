{
 "cells": [
  {
   "cell_type": "code",
   "execution_count": 1,
   "metadata": {},
   "outputs": [],
   "source": [
    "# Importamos las librerías necesarias\n",
    "import numpy as np"
   ]
  },
  {
   "cell_type": "markdown",
   "metadata": {},
   "source": [
    "1. Cread un array de dos dimensiones de 5 filas y 3 columnas."
   ]
  },
  {
   "cell_type": "code",
   "execution_count": 2,
   "metadata": {},
   "outputs": [
    {
     "data": {
      "text/plain": [
       "array([[27, 38, 48],\n",
       "       [20,  4, 37],\n",
       "       [ 4, 10, 29],\n",
       "       [35, 43, 27],\n",
       "       [ 5,  7, 26]])"
      ]
     },
     "execution_count": 2,
     "metadata": {},
     "output_type": "execute_result"
    }
   ],
   "source": [
    "# Con el método random randint, creamos una matriz con valores entre 1 y 50, de 5x3\n",
    "array1 = np.random.randint(1,50, (5,3))\n",
    "array1"
   ]
  },
  {
   "cell_type": "markdown",
   "metadata": {},
   "source": [
    "Sobre el array creado anteriormente extraed:\n",
    "- El valor de la primera fila y la segunda columna"
   ]
  },
  {
   "cell_type": "code",
   "execution_count": 3,
   "metadata": {},
   "outputs": [
    {
     "data": {
      "text/plain": [
       "38"
      ]
     },
     "execution_count": 3,
     "metadata": {},
     "output_type": "execute_result"
    }
   ],
   "source": [
    "# Usamos los índices para extraer los valores\n",
    "array1[0,1]"
   ]
  },
  {
   "cell_type": "markdown",
   "metadata": {},
   "source": [
    "- Los valores de la segunda fila y las dos primeras columnas"
   ]
  },
  {
   "cell_type": "code",
   "execution_count": 4,
   "metadata": {},
   "outputs": [
    {
     "data": {
      "text/plain": [
       "array([20,  4])"
      ]
     },
     "execution_count": 4,
     "metadata": {},
     "output_type": "execute_result"
    }
   ],
   "source": [
    "array1[1,:2]"
   ]
  },
  {
   "cell_type": "markdown",
   "metadata": {},
   "source": [
    "- Extraed las filas pares (incluyendo la 0) y todas las columnas"
   ]
  },
  {
   "cell_type": "code",
   "execution_count": 5,
   "metadata": {},
   "outputs": [
    {
     "data": {
      "text/plain": [
       "array([[27, 38, 48],\n",
       "       [ 4, 10, 29],\n",
       "       [ 5,  7, 26]])"
      ]
     },
     "execution_count": 5,
     "metadata": {},
     "output_type": "execute_result"
    }
   ],
   "source": [
    "# Al hablar de incluir la 0, entendemos que estamos hablando de posición de Python, y no humana\n",
    "array1[::2,:]"
   ]
  },
  {
   "cell_type": "markdown",
   "metadata": {},
   "source": [
    "- Extraed los valores que sean mayores que 0.5."
   ]
  },
  {
   "cell_type": "code",
   "execution_count": 6,
   "metadata": {},
   "outputs": [
    {
     "data": {
      "text/plain": [
       "array([27, 38, 48, 20,  4, 37,  4, 10, 29, 35, 43, 27,  5,  7, 26])"
      ]
     },
     "execution_count": 6,
     "metadata": {},
     "output_type": "execute_result"
    }
   ],
   "source": [
    "# Extraemos un subset con la condición de que los valores sean mayores que 0.5 (En nuestro caso son todos)\n",
    "array1[array1 > 0.5]"
   ]
  },
  {
   "cell_type": "markdown",
   "metadata": {},
   "source": [
    "- Extraed los valores menores que 0.2 o mayores que 0.5"
   ]
  },
  {
   "cell_type": "code",
   "execution_count": 7,
   "metadata": {},
   "outputs": [
    {
     "data": {
      "text/plain": [
       "array([27, 38, 48, 20,  4, 37,  4, 10, 29, 35, 43, 27,  5,  7, 26])"
      ]
     },
     "execution_count": 7,
     "metadata": {},
     "output_type": "execute_result"
    }
   ],
   "source": [
    "# Extraemos un subset con la condición de que los valores sean menores que 0.2 o mayores que 0.5 (En nuestro caso son todos de nuevo)\n",
    "array1[(array1 < 0.2) | (array1 > 0.5)]"
   ]
  },
  {
   "cell_type": "markdown",
   "metadata": {},
   "source": [
    "2. Cread dos array de tres dimensiones:\n",
    "- El primero de 2 matrices, 5 filas y 3 columnas.\n",
    "- El segundo de 3 matrices, 2 filas y 5 columnas"
   ]
  },
  {
   "cell_type": "code",
   "execution_count": 10,
   "metadata": {},
   "outputs": [
    {
     "name": "stdout",
     "output_type": "stream",
     "text": [
      "[[[0.13248907 0.33315516 0.74677517]\n",
      "  [0.53985157 0.03631202 0.95373645]\n",
      "  [0.26321776 0.47333583 0.20895358]\n",
      "  [0.1472225  0.16642836 0.04799413]\n",
      "  [0.13780651 0.13925267 0.34139148]]\n",
      "\n",
      " [[0.42640012 0.61319556 0.55890129]\n",
      "  [0.60057873 0.83398526 0.09429619]\n",
      "  [0.8288538  0.58094669 0.08582427]\n",
      "  [0.35103573 0.06557503 0.48477586]\n",
      "  [0.35361773 0.0327722  0.78802267]]]\n",
      "-----------------------------------\n",
      "[[[0.52453938 0.46091548 0.32222084 0.74104383 0.02587763]\n",
      "  [0.44773689 0.29054076 0.9119143  0.89259518 0.71591004]]\n",
      "\n",
      " [[0.20880139 0.3552689  0.79163683 0.03188218 0.19617215]\n",
      "  [0.87954553 0.75761224 0.2141172  0.84678238 0.52888457]]\n",
      "\n",
      " [[0.09183372 0.62411941 0.97890894 0.63947814 0.69377   ]\n",
      "  [0.78835662 0.7301118  0.3594018  0.57035103 0.35300065]]]\n"
     ]
    }
   ],
   "source": [
    "array2 = np.random.rand(2,5,3)\n",
    "print(array2)\n",
    "print(\"-----------------------------------\")\n",
    "array3 = np.random.rand(3,2,5)\n",
    "print(array3)"
   ]
  },
  {
   "cell_type": "markdown",
   "metadata": {},
   "source": [
    "- Haced un análisis exploratorio de los array creados. Recordad que en el ejercicio de ayer nos creamos una función para esto."
   ]
  },
  {
   "cell_type": "code",
   "execution_count": 13,
   "metadata": {},
   "outputs": [],
   "source": [
    "# Recuperamos la función realizada en el pair anterior\n",
    "def chequear_array(array):\n",
    "    print(f\"La dimension del array es: {array.ndim}\")  #aqui nos printea la dimension del array\n",
    "    print(f\"El tipo del array es: {array.dtype}\")   #aqui nos printea el tipo del array\n",
    "    print(f\"El tamaño del array es: {array.size}\")  #aqui nos printea el tamaño del array\n",
    "    print(f\"La forma del array es: {array.shape}\")  #aqui nos printea la forma del array"
   ]
  },
  {
   "cell_type": "code",
   "execution_count": 14,
   "metadata": {},
   "outputs": [
    {
     "name": "stdout",
     "output_type": "stream",
     "text": [
      "La dimension del array es: 3\n",
      "El tipo del array es: float64\n",
      "El tamaño del array es: 30\n",
      "La forma del array es: (2, 5, 3)\n"
     ]
    }
   ],
   "source": [
    "chequear_array(array2)"
   ]
  },
  {
   "cell_type": "code",
   "execution_count": 15,
   "metadata": {},
   "outputs": [
    {
     "name": "stdout",
     "output_type": "stream",
     "text": [
      "La dimension del array es: 3\n",
      "El tipo del array es: float64\n",
      "El tamaño del array es: 30\n",
      "La forma del array es: (3, 2, 5)\n"
     ]
    }
   ],
   "source": [
    "chequear_array(array3)"
   ]
  },
  {
   "cell_type": "markdown",
   "metadata": {},
   "source": [
    "- Sumad los dos arrays. ¿Podéis? ¿Por qué?"
   ]
  },
  {
   "cell_type": "code",
   "execution_count": 16,
   "metadata": {},
   "outputs": [
    {
     "ename": "ValueError",
     "evalue": "operands could not be broadcast together with shapes (2,5,3) (3,2,5) ",
     "output_type": "error",
     "traceback": [
      "\u001b[0;31m---------------------------------------------------------------------------\u001b[0m",
      "\u001b[0;31mValueError\u001b[0m                                Traceback (most recent call last)",
      "\u001b[0;32m/tmp/ipykernel_805/144200592.py\u001b[0m in \u001b[0;36m<module>\u001b[0;34m\u001b[0m\n\u001b[0;32m----> 1\u001b[0;31m \u001b[0marray2\u001b[0m \u001b[0;34m+\u001b[0m \u001b[0marray3\u001b[0m\u001b[0;34m\u001b[0m\u001b[0;34m\u001b[0m\u001b[0m\n\u001b[0m",
      "\u001b[0;31mValueError\u001b[0m: operands could not be broadcast together with shapes (2,5,3) (3,2,5) "
     ]
    }
   ],
   "source": [
    "array2 + array3\n",
    "# Nos da error porque no tienen la misma forma"
   ]
  },
  {
   "cell_type": "markdown",
   "metadata": {},
   "source": [
    "Para cambiar la forma de un array y poder hacer operaciones entre arrays que tienen distintas formas hemos aprendido dos métodos:\n",
    "- .reshape()\n",
    "- .transpose()\n",
    "\n",
    "Utiliza estas dos funciones para cambiar la forma de los array y hacer operaciones entre ellos"
   ]
  },
  {
   "cell_type": "code",
   "execution_count": 17,
   "metadata": {},
   "outputs": [
    {
     "data": {
      "text/plain": [
       "array([[[0.13248907, 0.33315516, 0.74677517, 0.53985157, 0.03631202],\n",
       "        [0.95373645, 0.26321776, 0.47333583, 0.20895358, 0.1472225 ]],\n",
       "\n",
       "       [[0.16642836, 0.04799413, 0.13780651, 0.13925267, 0.34139148],\n",
       "        [0.42640012, 0.61319556, 0.55890129, 0.60057873, 0.83398526]],\n",
       "\n",
       "       [[0.09429619, 0.8288538 , 0.58094669, 0.08582427, 0.35103573],\n",
       "        [0.06557503, 0.48477586, 0.35361773, 0.0327722 , 0.78802267]]])"
      ]
     },
     "execution_count": 17,
     "metadata": {},
     "output_type": "execute_result"
    }
   ],
   "source": [
    "# Con el método reshape le decimos el número de matrices, filas y columnas\n",
    "array4 = np.reshape(array2, (3,2,5))\n",
    "array4"
   ]
  },
  {
   "cell_type": "code",
   "execution_count": 18,
   "metadata": {},
   "outputs": [
    {
     "data": {
      "text/plain": [
       "array([[[0.65702845, 0.79407065, 1.06899602, 1.2808954 , 0.06218965],\n",
       "        [1.40147335, 0.55375852, 1.38525013, 1.10154876, 0.86313254]],\n",
       "\n",
       "       [[0.37522975, 0.40326303, 0.92944335, 0.17113485, 0.53756362],\n",
       "        [1.30594565, 1.3708078 , 0.7730185 , 1.44736111, 1.36286984]],\n",
       "\n",
       "       [[0.18612991, 1.45297321, 1.55985563, 0.72530241, 1.04480573],\n",
       "        [0.85393165, 1.21488766, 0.71301953, 0.60312323, 1.14102331]]])"
      ]
     },
     "execution_count": 18,
     "metadata": {},
     "output_type": "execute_result"
    }
   ],
   "source": [
    "# Al cambiarle la forma al array, ya podremos sumarlos.\n",
    "array3 + array4"
   ]
  },
  {
   "cell_type": "code",
   "execution_count": 19,
   "metadata": {},
   "outputs": [
    {
     "data": {
      "text/plain": [
       "array([[[0.13248907, 0.53985157, 0.26321776, 0.1472225 , 0.13780651],\n",
       "        [0.42640012, 0.60057873, 0.8288538 , 0.35103573, 0.35361773]],\n",
       "\n",
       "       [[0.33315516, 0.03631202, 0.47333583, 0.16642836, 0.13925267],\n",
       "        [0.61319556, 0.83398526, 0.58094669, 0.06557503, 0.0327722 ]],\n",
       "\n",
       "       [[0.74677517, 0.95373645, 0.20895358, 0.04799413, 0.34139148],\n",
       "        [0.55890129, 0.09429619, 0.08582427, 0.48477586, 0.78802267]]])"
      ]
     },
     "execution_count": 19,
     "metadata": {},
     "output_type": "execute_result"
    }
   ],
   "source": [
    "# Con el método transpose, cambiamos la posición de los 3 ejes, diciendole en que lugar queremos que esté ahora\n",
    "array5 = np.transpose(array2, (2,0,1))\n",
    "array5"
   ]
  },
  {
   "cell_type": "code",
   "execution_count": 20,
   "metadata": {},
   "outputs": [
    {
     "data": {
      "text/plain": [
       "array([[[0.65702845, 1.00076706, 0.5854386 , 0.88826633, 0.16368414],\n",
       "        [0.87413702, 0.89111949, 1.74076811, 1.24363091, 1.06952777]],\n",
       "\n",
       "       [[0.54195656, 0.39158091, 1.26497266, 0.19831054, 0.33542482],\n",
       "        [1.49274109, 1.5915975 , 0.79506389, 0.91235741, 0.56165678]],\n",
       "\n",
       "       [[0.83860889, 1.57785586, 1.18786252, 0.68747228, 1.03516147],\n",
       "        [1.34725791, 0.82440799, 0.44522607, 1.05512689, 1.14102331]]])"
      ]
     },
     "execution_count": 20,
     "metadata": {},
     "output_type": "execute_result"
    }
   ],
   "source": [
    "array5 + array3"
   ]
  }
 ],
 "metadata": {
  "kernelspec": {
   "display_name": "Python 3.9.7 ('base')",
   "language": "python",
   "name": "python3"
  },
  "language_info": {
   "codemirror_mode": {
    "name": "ipython",
    "version": 3
   },
   "file_extension": ".py",
   "mimetype": "text/x-python",
   "name": "python",
   "nbconvert_exporter": "python",
   "pygments_lexer": "ipython3",
   "version": "3.9.7"
  },
  "orig_nbformat": 4,
  "vscode": {
   "interpreter": {
    "hash": "f25093244bacc7e62393c275f4a06a2027bcbdb9a67d7fe53680dbd2484adc03"
   }
  }
 },
 "nbformat": 4,
 "nbformat_minor": 2
}
