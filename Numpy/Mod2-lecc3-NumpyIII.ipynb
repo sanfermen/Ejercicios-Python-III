{
 "cells": [
  {
   "cell_type": "code",
   "execution_count": 1,
   "metadata": {},
   "outputs": [],
   "source": [
    "# Importamos las librerías necesarias\n",
    "import numpy as np"
   ]
  },
  {
   "attachments": {},
   "cell_type": "markdown",
   "metadata": {},
   "source": [
    "1. Cread un array de 3 dimensiones de 2 matrices, 3 filas y 5 columnas, cuyos valores solo tengan 1 decimal."
   ]
  },
  {
   "cell_type": "code",
   "execution_count": 2,
   "metadata": {},
   "outputs": [
    {
     "data": {
      "text/plain": [
       "array([[[0.1, 0.4, 0. , 0.5, 0.1],\n",
       "        [0.5, 0.9, 0.9, 1. , 0.5],\n",
       "        [0.4, 0.2, 0.5, 0.6, 1. ]],\n",
       "\n",
       "       [[0.1, 0.3, 0.3, 0.5, 0.8],\n",
       "        [0. , 0.1, 0.2, 0.1, 0.8],\n",
       "        [0. , 0.6, 0.1, 0.4, 0.7]]])"
      ]
     },
     "execution_count": 2,
     "metadata": {},
     "output_type": "execute_result"
    }
   ],
   "source": [
    "# Utilizamos el metodo de numpy round para decirle el número de decimales que queremos\n",
    "arr1 = np.round(np.random.rand(2,3,5), decimals= 1)\n",
    "arr1"
   ]
  },
  {
   "attachments": {},
   "cell_type": "markdown",
   "metadata": {},
   "source": [
    "2. Calculad la media del array y almacenarlos en una variable. Redondead a un decimal."
   ]
  },
  {
   "cell_type": "code",
   "execution_count": 3,
   "metadata": {},
   "outputs": [
    {
     "data": {
      "text/plain": [
       "0.4"
      ]
     },
     "execution_count": 3,
     "metadata": {},
     "output_type": "execute_result"
    }
   ],
   "source": [
    "# Con np.mean calculamos la media y con np.round redondeamos a un decimal\n",
    "media_arr1 = np.round(np.mean(arr1), decimals= 1)\n",
    "media_arr1"
   ]
  },
  {
   "attachments": {},
   "cell_type": "markdown",
   "metadata": {},
   "source": [
    "3. Calculad el valor máximo del array y almacenarlos en una variable. Redondead a un decimal."
   ]
  },
  {
   "cell_type": "code",
   "execution_count": 4,
   "metadata": {},
   "outputs": [
    {
     "data": {
      "text/plain": [
       "1.0"
      ]
     },
     "execution_count": 4,
     "metadata": {},
     "output_type": "execute_result"
    }
   ],
   "source": [
    "# Con np.max calculamos el valor máximo y con np.round redondeamos a un decimal\n",
    "max_arr1 = np.round(np.max(arr1), decimals= 1)\n",
    "max_arr1"
   ]
  },
  {
   "attachments": {},
   "cell_type": "markdown",
   "metadata": {},
   "source": [
    "4. Calculad el valor mínimo del array y almacenarlos en una variable. Redondead a un decimal."
   ]
  },
  {
   "cell_type": "code",
   "execution_count": 5,
   "metadata": {},
   "outputs": [
    {
     "data": {
      "text/plain": [
       "0.0"
      ]
     },
     "execution_count": 5,
     "metadata": {},
     "output_type": "execute_result"
    }
   ],
   "source": [
    "# Con np.min calculamos el valor mínimo y con np.round redondeamos a un decimal\n",
    "min_arr1 = np.round(np.min(arr1), decimals= 1)\n",
    "min_arr1"
   ]
  },
  {
   "attachments": {},
   "cell_type": "markdown",
   "metadata": {},
   "source": [
    "5. Cread un array vacío con la misma forma y dimensiones que el array creado anteriormente.\n",
    "\n",
    "    Reemplazamos los valores de la matriz vacía que acabamos de crear pero basándonos en los valores del primer array bajo las siguientes condiciones:\n",
    "    - Si el valor del array es igual que la media, se reemplaza por \"A\".\n",
    "    - Si el valor del array es mayor que la media, se reemplaza por \"B\".\n",
    "    - Si el valor del array es menor que la media, se reemplaza por \"C\".\n",
    "    - Si el valor es igual que el máximo, se reemplaza por \"D\".\n",
    "    - Si el valor es igual que el mínimo, se reemplaza por \"E\"."
   ]
  },
  {
   "cell_type": "code",
   "execution_count": 6,
   "metadata": {},
   "outputs": [
    {
     "data": {
      "text/plain": [
       "array([[['', '', '', '', ''],\n",
       "        ['', '', '', '', ''],\n",
       "        ['', '', '', '', '']],\n",
       "\n",
       "       [['', '', '', '', ''],\n",
       "        ['', '', '', '', ''],\n",
       "        ['', '', '', '', '']]], dtype='<U1')"
      ]
     },
     "execution_count": 6,
     "metadata": {},
     "output_type": "execute_result"
    }
   ],
   "source": [
    "\"\"\"\n",
    "Creamos un array vacio con la forma y dimensiones del array anterior, \n",
    "pero especificamos que los datos serán tipo string, ya que vamos a insertarle\n",
    "valores de ese tipo\n",
    "\"\"\"\n",
    "arr_vacio = np.empty_like(arr1, dtype= str)\n",
    "arr_vacio"
   ]
  },
  {
   "cell_type": "code",
   "execution_count": null,
   "metadata": {},
   "outputs": [],
   "source": [
    "d, e, f = np.where(arr1== 0.9)"
   ]
  },
  {
   "cell_type": "code",
   "execution_count": 8,
   "metadata": {},
   "outputs": [],
   "source": [
    "a, b, c =np.where(arr1== 0.9)"
   ]
  },
  {
   "cell_type": "code",
   "execution_count": 12,
   "metadata": {},
   "outputs": [
    {
     "data": {
      "text/plain": [
       "numpy.ndarray"
      ]
     },
     "execution_count": 12,
     "metadata": {},
     "output_type": "execute_result"
    }
   ],
   "source": []
  },
  {
   "cell_type": "code",
   "execution_count": 7,
   "metadata": {},
   "outputs": [
    {
     "data": {
      "text/plain": [
       "array([[['B', 'B', 'C', 'C', 'B'],\n",
       "        ['B', 'E', 'C', 'D', 'B'],\n",
       "        ['A', 'C', 'C', 'B', 'C']],\n",
       "\n",
       "       [['C', 'A', 'A', 'D', 'B'],\n",
       "        ['C', 'B', 'E', 'E', 'A'],\n",
       "        ['B', 'C', 'D', 'B', 'C']]], dtype='<U1')"
      ]
     },
     "execution_count": 7,
     "metadata": {},
     "output_type": "execute_result"
    }
   ],
   "source": [
    "# iteramos por cada matriz del array original\n",
    "for i in arr1:\n",
    "    # iteramos por cada fila de la matriz\n",
    "    for m in i:\n",
    "        # iteramos por cada elemento de la fila\n",
    "        for x in m:\n",
    "            # si el elemento es igual a la media\n",
    "            if x == media_arr1:\n",
    "                # Buscamos la posición de ese elemento con np.where, y guardamos cada array de posiciones(matriz, fila y columna) en una variable separado\n",
    "                d, e, f = np.where(arr1== x)\n",
    "                # Convertimos las variables en una tupla con el índice de matriz, fila y columna de cada posición usando el método zip\n",
    "                prueba = tuple(zip(d,e,f))\n",
    "                # Mediante un contador y un while, usamos la tupla para modificar el valor, asegurandonos de pasar por todos los índices obtenidos\n",
    "                p = 0\n",
    "                while p < len(prueba):\n",
    "                    arr_vacio[prueba[p]] = \"A\"\n",
    "                    p += 1\n",
    "            if x > media_arr1:\n",
    "                p = 0\n",
    "                d, e, f = np.where(arr1== x)\n",
    "                prueba = tuple(zip(d,e,f))\n",
    "                while p < len(prueba):\n",
    "                    arr_vacio[prueba[p]] = \"B\"\n",
    "                    p += 1\n",
    "            if x < media_arr1:\n",
    "                p = 0\n",
    "                d, e, f = np.where(arr1== x)\n",
    "                prueba = tuple(zip(d,e,f))\n",
    "                while p < len(prueba):\n",
    "                    arr_vacio[prueba[p]] = \"C\"\n",
    "                    p += 1\n",
    "            if x == max_arr1:\n",
    "                p = 0\n",
    "                d, e, f = np.where(arr1== x)\n",
    "                prueba = tuple(zip(d,e,f))\n",
    "                while p < len(prueba):\n",
    "                    arr_vacio[prueba[p]] = \"D\"\n",
    "                    p += 1\n",
    "            if x == min_arr1:\n",
    "                p = 0\n",
    "                d, e, f = np.where(arr1== x)\n",
    "                prueba = tuple(zip(d,e,f))\n",
    "                while p < len(prueba):\n",
    "                    arr_vacio[prueba[p]] = \"E\"\n",
    "                    p += 1\n",
    "arr_vacio"
   ]
  },
  {
   "attachments": {},
   "cell_type": "markdown",
   "metadata": {},
   "source": [
    "6. Realizamos un ejercicio similar al anterior, pero en este caso creamos un array vacío unidimensional de 30 elementos. Al final de este ejercicio acabaremos teniendo un array de 3 dimensiones con la misma forma que el primero que nos creamos.\n",
    "    En este caso:\n",
    "    - Si el valor del array creado en el ejercicio anterior es \"A\" o \"B\", lo reemplazaremos por 1.\n",
    "    - Si el valor del array creado en el ejercicio anterior es \"C\" o \"D\", lo reemplazaremos por 2.\n",
    "    - Si el valor del array creado en el ejercicio anterior es \"E\", lo reemplazaremos por 3.\n",
    "\n",
    "    Una vez que todos los valores hayan sido reemplazados, cambiad la forma del array para que sea de 3 dimensiones, con 2 matrices, 3 filas y 5 columnas."
   ]
  },
  {
   "cell_type": "code",
   "execution_count": 8,
   "metadata": {},
   "outputs": [
    {
     "data": {
      "text/plain": [
       "array([0.9, 0.9, 0.4, 0.3, 0.8, 0.9, 0.1, 0.2, 1. , 0.7, 0.6, 0.5, 0.5,\n",
       "       0.9, 0.3, 0.4, 0.6, 0.6, 1. , 0.8, 0.3, 0.7, 0.1, 0.1, 0.6, 0.7,\n",
       "       0.2, 1. , 0.9, 0.2])"
      ]
     },
     "execution_count": 8,
     "metadata": {},
     "output_type": "execute_result"
    }
   ],
   "source": [
    "# Creamos un array vacio unidimensional de 30 elementos\n",
    "arr30 = np.empty(30)\n",
    "arr30"
   ]
  },
  {
   "cell_type": "code",
   "execution_count": 9,
   "metadata": {},
   "outputs": [
    {
     "data": {
      "text/plain": [
       "array(['B', 'B', 'C', 'C', 'B', 'B', 'E', 'C', 'D', 'B', 'A', 'C', 'C',\n",
       "       'B', 'C', 'C', 'A', 'A', 'D', 'B', 'C', 'B', 'E', 'E', 'A', 'B',\n",
       "       'C', 'D', 'B', 'C'], dtype='<U1')"
      ]
     },
     "execution_count": 9,
     "metadata": {},
     "output_type": "execute_result"
    }
   ],
   "source": [
    "# Creamos un array convirtiendo el vacio en un array unidimensional, de manera que los dos arrays tengan la misma forma\n",
    "arr_vacio_unidem = np.reshape(arr_vacio, 30)\n",
    "arr_vacio_unidem"
   ]
  },
  {
   "cell_type": "code",
   "execution_count": 10,
   "metadata": {},
   "outputs": [
    {
     "name": "stdout",
     "output_type": "stream",
     "text": [
      "[1. 1. 2. 2. 1. 1. 3. 2. 2. 1. 1. 2. 2. 1. 2. 2. 1. 1. 2. 1. 2. 1. 3. 3.\n",
      " 1. 1. 2. 2. 1. 2.]\n",
      "--------------------------\n"
     ]
    },
    {
     "data": {
      "text/plain": [
       "array([[[1., 1., 2., 2., 1.],\n",
       "        [1., 3., 2., 2., 1.],\n",
       "        [1., 2., 2., 1., 2.]],\n",
       "\n",
       "       [[2., 1., 1., 2., 1.],\n",
       "        [2., 1., 3., 3., 1.],\n",
       "        [1., 2., 2., 1., 2.]]])"
      ]
     },
     "execution_count": 10,
     "metadata": {},
     "output_type": "execute_result"
    }
   ],
   "source": [
    "# Iteramos por el array vacio unidimensional\n",
    "for i in arr_vacio_unidem:\n",
    "    # Si el elemento es igual a \"A\" o \"B\"\n",
    "    if i == \"A\" or i == \"B\": \n",
    "        # Buscamos la posición del elemento en el array, lo metemos en una variable \n",
    "        d = np.where(arr_vacio_unidem== i)\n",
    "        # iteramos por la variable para obtener la posición y modificamos el arr30 en esa posición\n",
    "        for num in d:\n",
    "            for yo in num:\n",
    "                arr30[yo] = 1\n",
    "        \n",
    "    if i == \"C\" or i == \"D\":\n",
    "        d = np.where(arr_vacio_unidem== i)\n",
    "        for num in d:\n",
    "            for yo in num:\n",
    "                arr30[yo] = 2\n",
    "    if i == \"E\":\n",
    "        d = np.where(arr_vacio_unidem== i)\n",
    "        for num in d:\n",
    "            for yo in num:\n",
    "                arr30[yo] = 3\n",
    "print(arr30)\n",
    "print(\"--------------------------\")                  \n",
    "arr_def = np.reshape(arr30, (2,3,5))\n",
    "arr_def"
   ]
  }
 ],
 "metadata": {
  "kernelspec": {
   "display_name": "base",
   "language": "python",
   "name": "python3"
  },
  "language_info": {
   "codemirror_mode": {
    "name": "ipython",
    "version": 3
   },
   "file_extension": ".py",
   "mimetype": "text/x-python",
   "name": "python",
   "nbconvert_exporter": "python",
   "pygments_lexer": "ipython3",
   "version": "3.9.7"
  },
  "orig_nbformat": 4,
  "vscode": {
   "interpreter": {
    "hash": "f25093244bacc7e62393c275f4a06a2027bcbdb9a67d7fe53680dbd2484adc03"
   }
  }
 },
 "nbformat": 4,
 "nbformat_minor": 2
}
